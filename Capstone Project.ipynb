{
 "cells": [
  {
   "cell_type": "markdown",
   "metadata": {
    "editable": true
   },
   "source": [
    "# Modeling U.S. arrivals\n",
    "### Udacity Data Engineering Nanodegree Capstone\n",
    "\n",
    "#### Project Summary\n",
    "This project aims to model non-citizen arrivals to the United States by month, visa type, and country of residency.\n",
    "\n",
    "The project follows the following steps:\n",
    "* Step 1: Scope the Project and Gather Data\n",
    "* Step 2: Explore and Assess the Data\n",
    "* Step 3: Define the Data Model\n",
    "* Step 4: Run ETL to Model the Data\n",
    "* Step 5: Complete Project Write Up"
   ]
  },
  {
   "cell_type": "code",
   "execution_count": 2,
   "metadata": {
    "editable": true
   },
   "outputs": [],
   "source": [
    "import json\n",
    "from pyspark.sql import SparkSession\n",
    "from pyspark.sql.functions import upper, col\n",
    "from pyspark.sql.functions import date_format\n",
    "import datetime\n",
    "import pandas as pd"
   ]
  },
  {
   "cell_type": "code",
   "execution_count": 3,
   "metadata": {
    "editable": true
   },
   "outputs": [],
   "source": [
    "spark = SparkSession \\\n",
    "    .builder \\\n",
    "    .config(\"spark.jars.repositories\", \"https://repos.spark-packages.org/\")\\\n",
    "    .config(\"spark.jars.packages\", \"saurfang:spark-sas7bdat:2.0.0-s_2.11\")\\\n",
    "    .appName(\"Capstone\") \\\n",
    "    .getOrCreate()"
   ]
  },
  {
   "cell_type": "markdown",
   "metadata": {
    "editable": true
   },
   "source": [
    "### Step 1: Scope the Project and Gather Data\n",
    "\n",
    "#### Scope \n",
    "This is the pilot for a large, ground-truth dataset that links U.S. arrivals to the temperatures in the visitors' countries of residence. This dataset, if leveraged in the right way, could indicate climate change-induced travel. The entire year 2016 of aggregated U.S. arrivals is available, as well as 2002-2013 of aggregated temperature data per country. For the latter dataset, 10 full years are used to provide more recent relevant data.\n",
    "\n",
    "#### Describe and Gather Data \n",
    "For the modeling in this project, I used the following datasets:\n",
    "\n",
    "I94 immigration data for non-citizen arrivals to the United States (source: [US National Tourism and Trade Office](https://www.trade.gov/national-travel-and-tourism-office)). All non-citizens arriving in the U.S. must return an i94 form, and information of interest from this dataset includes the airport of arrival, visa type, and country of residence. This dataset's documentation provided the country information in countries.csv.\n",
    "\n",
    "World temperature data (source: [Kaggle](https://www.kaggle.com/berkeleyearth/climate-change-earth-surface-temperature-data)). Provides average surface temperature data per country from the 1700s through 2013.\n",
    "\n",
    "Airport codes ([source](https://datahub.io/core/airport-codes#data)). Reports airport codes and the airport's official name and location.\n",
    "\n",
    "ISO country codes ([source](https://datahub.io/core/country-list#data)). Reports a country's name and its two-letter ISO code."
   ]
  },
  {
   "cell_type": "markdown",
   "metadata": {
    "editable": true
   },
   "source": [
    "##### Writing i94 dataset parquet files"
   ]
  },
  {
   "cell_type": "code",
   "execution_count": 4,
   "metadata": {
    "editable": true
   },
   "outputs": [
    {
     "data": {
      "text/plain": [
       "['i94_apr16_sub.sas7bdat',\n",
       " 'i94_sep16_sub.sas7bdat',\n",
       " 'i94_nov16_sub.sas7bdat',\n",
       " 'i94_mar16_sub.sas7bdat',\n",
       " 'i94_jun16_sub.sas7bdat',\n",
       " 'i94_aug16_sub.sas7bdat',\n",
       " 'i94_may16_sub.sas7bdat',\n",
       " 'i94_jan16_sub.sas7bdat',\n",
       " 'i94_oct16_sub.sas7bdat',\n",
       " 'i94_jul16_sub.sas7bdat',\n",
       " 'i94_feb16_sub.sas7bdat',\n",
       " 'i94_dec16_sub.sas7bdat']"
      ]
     },
     "execution_count": 4,
     "metadata": {},
     "output_type": "execute_result"
    }
   ],
   "source": [
    "import os\n",
    "os.listdir('../../data/18-83510-I94-Data-2016/')"
   ]
  },
  {
   "cell_type": "code",
   "execution_count": null,
   "metadata": {
    "editable": true
   },
   "outputs": [],
   "source": [
    "# read in all immigration data, filter to columns wanted, append together\n",
    "immigration_first = spark.read.format('com.github.saurfang.sas.spark').load('../../data/18-83510-I94-Data-2016/i94_apr16_sub.sas7bdat')\n",
    "immigration_df = immigration_first.select(['i94yr', 'i94mon', 'i94res','i94port','i94visa','cicid'])\n",
    "\n",
    "for filename in os.listdir('../../data/18-83510-I94-Data-2016/')[1:]:\n",
    "    df = spark.read.format('com.github.saurfang.sas.spark').load('../../data/18-83510-I94-Data-2016/' + filename)\n",
    "    filtered_df = df.select(['i94yr', 'i94mon', 'i94res','i94port','i94visa','cicid'])\n",
    "    \n",
    "    immigration_df = immigration_df.union(filtered_df)"
   ]
  },
  {
   "cell_type": "code",
   "execution_count": null,
   "metadata": {
    "editable": true
   },
   "outputs": [],
   "source": [
    "#write to parquet\n",
    "immigration_df.write.parquet('sas_full_dataset')"
   ]
  },
  {
   "cell_type": "markdown",
   "metadata": {
    "editable": true
   },
   "source": [
    "##### Read in written parquet"
   ]
  },
  {
   "cell_type": "code",
   "execution_count": 5,
   "metadata": {
    "editable": true
   },
   "outputs": [
    {
     "name": "stdout",
     "output_type": "stream",
     "text": [
      "root\n",
      " |-- i94yr: double (nullable = true)\n",
      " |-- i94mon: double (nullable = true)\n",
      " |-- i94res: double (nullable = true)\n",
      " |-- i94port: string (nullable = true)\n",
      " |-- i94visa: double (nullable = true)\n",
      " |-- cicid: double (nullable = true)\n",
      "\n"
     ]
    }
   ],
   "source": [
    "# read in immigration parquet\n",
    "immigration_df = spark.read.parquet('sas_full_dataset')\n",
    "immigration_df.printSchema()"
   ]
  },
  {
   "cell_type": "code",
   "execution_count": 6,
   "metadata": {
    "editable": true
   },
   "outputs": [
    {
     "data": {
      "text/plain": [
       "[Row(i94yr=2016.0, i94mon=8.0, i94res=696.0, i94port='LOS', i94visa=2.0, cicid=6320527.0),\n",
       " Row(i94yr=2016.0, i94mon=8.0, i94res=112.0, i94port='SFR', i94visa=1.0, cicid=6320528.0),\n",
       " Row(i94yr=2016.0, i94mon=8.0, i94res=135.0, i94port='ORL', i94visa=2.0, cicid=6320529.0),\n",
       " Row(i94yr=2016.0, i94mon=8.0, i94res=135.0, i94port='MIA', i94visa=2.0, cicid=6320530.0),\n",
       " Row(i94yr=2016.0, i94mon=8.0, i94res=112.0, i94port='SEA', i94visa=2.0, cicid=6320531.0)]"
      ]
     },
     "execution_count": 6,
     "metadata": {},
     "output_type": "execute_result"
    }
   ],
   "source": [
    "immigration_df.take(5)"
   ]
  },
  {
   "cell_type": "code",
   "execution_count": 7,
   "metadata": {
    "editable": true
   },
   "outputs": [
    {
     "name": "stdout",
     "output_type": "stream",
     "text": [
      "root\n",
      " |-- dt: timestamp (nullable = true)\n",
      " |-- AverageTemperature: double (nullable = true)\n",
      " |-- AverageTemperatureUncertainty: double (nullable = true)\n",
      " |-- City: string (nullable = true)\n",
      " |-- Country: string (nullable = true)\n",
      " |-- Latitude: string (nullable = true)\n",
      " |-- Longitude: string (nullable = true)\n",
      "\n"
     ]
    }
   ],
   "source": [
    "# read in world temperature data -- measurements listed in C\n",
    "temp = spark.read.option(\"header\",True).option(\"inferSchema\",True).csv('../../data2/GlobalLandTemperaturesByCity.csv')\n",
    "temp.printSchema()"
   ]
  },
  {
   "cell_type": "code",
   "execution_count": 8,
   "metadata": {
    "editable": true
   },
   "outputs": [
    {
     "data": {
      "text/plain": [
       "[Row(dt=datetime.datetime(1743, 11, 1, 0, 0), AverageTemperature=6.068, AverageTemperatureUncertainty=1.7369999999999999, City='Århus', Country='Denmark', Latitude='57.05N', Longitude='10.33E'),\n",
       " Row(dt=datetime.datetime(1743, 12, 1, 0, 0), AverageTemperature=None, AverageTemperatureUncertainty=None, City='Århus', Country='Denmark', Latitude='57.05N', Longitude='10.33E'),\n",
       " Row(dt=datetime.datetime(1744, 1, 1, 0, 0), AverageTemperature=None, AverageTemperatureUncertainty=None, City='Århus', Country='Denmark', Latitude='57.05N', Longitude='10.33E'),\n",
       " Row(dt=datetime.datetime(1744, 2, 1, 0, 0), AverageTemperature=None, AverageTemperatureUncertainty=None, City='Århus', Country='Denmark', Latitude='57.05N', Longitude='10.33E'),\n",
       " Row(dt=datetime.datetime(1744, 3, 1, 0, 0), AverageTemperature=None, AverageTemperatureUncertainty=None, City='Århus', Country='Denmark', Latitude='57.05N', Longitude='10.33E')]"
      ]
     },
     "execution_count": 8,
     "metadata": {},
     "output_type": "execute_result"
    }
   ],
   "source": [
    "temp.take(5)"
   ]
  },
  {
   "cell_type": "code",
   "execution_count": 9,
   "metadata": {
    "editable": true
   },
   "outputs": [],
   "source": [
    "# read in airports data and iso country codes\n",
    "codes = spark.read.option(\"header\",True).option(\"inferSchema\",True).csv('airport-codes_csv.csv')\n",
    "\n",
    "iso_codes = spark.read.option(\"header\",True).option(\"inferSchema\",True).csv('iso_2alpha.csv')"
   ]
  },
  {
   "cell_type": "code",
   "execution_count": 10,
   "metadata": {
    "editable": true
   },
   "outputs": [
    {
     "name": "stdout",
     "output_type": "stream",
     "text": [
      "root\n",
      " |-- ident: string (nullable = true)\n",
      " |-- type: string (nullable = true)\n",
      " |-- name: string (nullable = true)\n",
      " |-- elevation_ft: integer (nullable = true)\n",
      " |-- continent: string (nullable = true)\n",
      " |-- iso_country: string (nullable = true)\n",
      " |-- iso_region: string (nullable = true)\n",
      " |-- municipality: string (nullable = true)\n",
      " |-- gps_code: string (nullable = true)\n",
      " |-- iata_code: string (nullable = true)\n",
      " |-- local_code: string (nullable = true)\n",
      " |-- coordinates: string (nullable = true)\n",
      "\n"
     ]
    },
    {
     "data": {
      "text/plain": [
       "[Row(ident='00A', type='heliport', name='Total Rf Heliport', elevation_ft=11, continent='NA', iso_country='US', iso_region='US-PA', municipality='Bensalem', gps_code='00A', iata_code=None, local_code='00A', coordinates='-74.93360137939453, 40.07080078125'),\n",
       " Row(ident='00AA', type='small_airport', name='Aero B Ranch Airport', elevation_ft=3435, continent='NA', iso_country='US', iso_region='US-KS', municipality='Leoti', gps_code='00AA', iata_code=None, local_code='00AA', coordinates='-101.473911, 38.704022'),\n",
       " Row(ident='00AK', type='small_airport', name='Lowell Field', elevation_ft=450, continent='NA', iso_country='US', iso_region='US-AK', municipality='Anchor Point', gps_code='00AK', iata_code=None, local_code='00AK', coordinates='-151.695999146, 59.94919968'),\n",
       " Row(ident='00AL', type='small_airport', name='Epps Airpark', elevation_ft=820, continent='NA', iso_country='US', iso_region='US-AL', municipality='Harvest', gps_code='00AL', iata_code=None, local_code='00AL', coordinates='-86.77030181884766, 34.86479949951172'),\n",
       " Row(ident='00AR', type='closed', name='Newport Hospital & Clinic Heliport', elevation_ft=237, continent='NA', iso_country='US', iso_region='US-AR', municipality='Newport', gps_code=None, iata_code=None, local_code=None, coordinates='-91.254898, 35.6087')]"
      ]
     },
     "execution_count": 10,
     "metadata": {},
     "output_type": "execute_result"
    }
   ],
   "source": [
    "codes.printSchema()\n",
    "codes.take(5)"
   ]
  },
  {
   "cell_type": "code",
   "execution_count": 11,
   "metadata": {
    "editable": true
   },
   "outputs": [
    {
     "name": "stdout",
     "output_type": "stream",
     "text": [
      "root\n",
      " |-- Name: string (nullable = true)\n",
      " |-- Code: string (nullable = true)\n",
      "\n"
     ]
    },
    {
     "data": {
      "text/plain": [
       "[Row(Name='Afghanistan', Code='AF'),\n",
       " Row(Name='Åland Islands', Code='AX'),\n",
       " Row(Name='Albania', Code='AL'),\n",
       " Row(Name='Algeria', Code='DZ'),\n",
       " Row(Name='American Samoa', Code='AS')]"
      ]
     },
     "execution_count": 11,
     "metadata": {},
     "output_type": "execute_result"
    }
   ],
   "source": [
    "iso_codes.printSchema()\n",
    "iso_codes.take(5)"
   ]
  },
  {
   "cell_type": "code",
   "execution_count": 12,
   "metadata": {
    "editable": true
   },
   "outputs": [
    {
     "name": "stdout",
     "output_type": "stream",
     "text": [
      "root\n",
      " |-- country: string (nullable = true)\n",
      " |-- code: integer (nullable = true)\n",
      "\n"
     ]
    }
   ],
   "source": [
    "# read in country codes assembled from i94 documentation (I94_SAS_Labels_Descriptions.SAS)\n",
    "countries_df = spark.read.option(\"header\",True).option(\"inferSchema\",True).csv('countries.csv')\n",
    "countries_df = countries_df.select(['country','code'])\n",
    "countries_df.printSchema()"
   ]
  },
  {
   "cell_type": "code",
   "execution_count": 13,
   "metadata": {
    "editable": true
   },
   "outputs": [
    {
     "data": {
      "text/plain": [
       "[Row(country='MEXICO Air Sea, and Not Reported (I-94, no land arrivals)', code=582),\n",
       " Row(country='AFGHANISTAN', code=236),\n",
       " Row(country='ALBANIA', code=101),\n",
       " Row(country='ALGERIA', code=316),\n",
       " Row(country='ANDORRA', code=102)]"
      ]
     },
     "execution_count": 13,
     "metadata": {},
     "output_type": "execute_result"
    }
   ],
   "source": [
    "countries_df.take(5)"
   ]
  },
  {
   "cell_type": "markdown",
   "metadata": {
    "editable": true
   },
   "source": [
    "### Step 2: Explore and Assess the Data\n",
    "#### Explore the Data \n",
    "Exploration and experimentation with the data can be found in exploration.ipynb.\n",
    "\n",
    "#### Cleaning Steps\n",
    "1. Fix country names in temperature and countries data\n",
    "2. Fix country names in iso code data"
   ]
  },
  {
   "cell_type": "code",
   "execution_count": 14,
   "metadata": {
    "editable": true
   },
   "outputs": [],
   "source": [
    "# temperature data\n",
    "\n",
    "# fix country values so temp, country json, and iso codes match as much as possible\n",
    "# need replacement dictionaries\n",
    "temp_dict = {\n",
    "            'BOSNIA AND HERZEGOVINA':'BOSNIA-HERZEGOVINA',\n",
    "            'CHINA': 'CHINA, PRC',\n",
    "            \"CÔTE D'IVOIRE\": 'IVORY COAST',\n",
    "            'GUINEA BISSAU': 'GUINEA-BISSAU',\n",
    "            'CONGO (DEMOCRATIC REPUBLIC OF THE)': 'CONGO',\n",
    "            'BURMA': 'MYANMAR'\n",
    "}\n",
    "temp_cleaning = temp.select(\"*\", upper(col('Country'))).drop('Country')\n",
    "temp_cleaning = temp_cleaning.na.replace(temp_dict, subset='upper(Country)').withColumnRenamed('upper(Country)', 'country')\n",
    "\n",
    "countries_dict = {\n",
    "    'MEXICO Air Sea, and Not Reported (I-94, no land arrivals)': 'MEXICO',\n",
    "    'INVALID: ': '',\n",
    "    'BURMA': 'MYANMAR'\n",
    "}\n",
    "countries_cleaning = countries_df.na.replace(countries_dict, subset='country')\n",
    "\n",
    "# Note: Cambodia does not have a known code and visitor data is not being well tracked. Requires further investigation.\n",
    "\n",
    "iso_dict = {\n",
    "    'CURAÇAO': 'CURACAO',\n",
    "    'IRAN, ISLAMIC REPUBLIC OF': 'IRAN',\n",
    "    'VIRGIN ISLANDS, BRITISH': 'BRITISH VIRGIN ISLANDS',\n",
    "    'TANZANIA, UNITED REPUBLIC OF': 'TANZANIA',\n",
    "    'MACEDONIA, THE FORMER YUGOSLAV REPUBLIC OF': 'MACEDONIA',\n",
    "    'TAIWAN, PROVINCE OF CHINA': 'TAIWAN',\n",
    "    'CONGO, THE DEMOCRATIC REPUBLIC OF THE': 'CONGO',\n",
    "    'VENEZUELA, BOLIVARIAN REPUBLIC OF': 'VENEZUELA',\n",
    "    \"KOREA, DEMOCRATIC PEOPLE'S REPUBLIC OF\": 'NORTH KOREA',\n",
    "    'FALKLAND ISLANDS (MALVINAS)': 'FALKLAND ISLANDS',\n",
    "    'VIET NAM': 'VIETNAM',\n",
    "    'BRUNEI DARUSSALAM': 'BRUNEI',\n",
    "    'BOLIVIA, PLURINATIONAL STATE OF': 'BOLIVIA',\n",
    "    'MICRONESIA, FEDERATED STATES OF': 'MICRONESIA, FED. STATES OF',\n",
    "    'VIRGIN ISLANDS, U.S.': 'U.S. VIRGIN ISLANDS',\n",
    "    'MOLDOVA, REPUBLIC OF': 'MOLDOVA',\n",
    "    'KOREA, REPUBLIC OF': 'SOUTH KOREA',\n",
    "    'PALESTINE, STATE OF': 'PALESTINE',\n",
    "    'SAINT HELENA, ASCENSION AND TRISTAN DA CUNHA': 'ST. HELENA',\n",
    "    'BOSNIA AND HERZEGOVINA': 'BOSNIA-HERZEGOVINA',\n",
    "    'SAMOA': 'WESTERN SAMOA',\n",
    "    \"CÔTE D'IVOIRE\": 'IVORY COAST',\n",
    "    'CHINA': 'CHINA, PRC',\n",
    "    'HOLY SEE (VATICAN CITY STATE)': 'HOLY SEE/VATICAN',\n",
    "    'FAROE ISLANDS': 'FAROE ISLANDS (PART OF DENMARK)',\n",
    "    'SAINT LUCIA': 'ST. LUCIA',\n",
    "    \"LAO PEOPLE'S DEMOCRATIC REPUBLIC\": 'LAOS',\n",
    "    'MACAO': 'MACAU',\n",
    "    'TIMOR-LESTE': 'EAST TIMOR',\n",
    "    'SAINT MARTIN (FRENCH PART)': 'SAINT MARTIN',\n",
    "    'SINT MAARTEN (DUTCH PART)': 'SAINT MAARTEN',\n",
    "    'SAINT KITTS AND NEVIS': 'ST. KITTS-NEVIS',\n",
    "    'BONAIRE, SINT EUSTATIUS AND SABA': 'BONAIRE, ST EUSTATIUS, SABA',\n",
    "    'COCOS (KEELING) ISLANDS': 'COCOS ISLANDS',\n",
    "    'SYRIAN ARAB REPUBLIC': 'SYRIA',\n",
    "    'RUSSIAN FEDERATION': 'RUSSIA',\n",
    "    'WALLIS AND FUTUNA': 'WALLIS AND FUTUNA ISLANDS',\n",
    "    'NORTHERN MARIANA ISLANDS': 'MARIANA ISLANDS, NORTHERN',\n",
    "    'ANTIGUA AND BARBUDA': 'ANTIGUA-BARBUDA',\n",
    "    'HEARD ISLAND AND MCDONALD ISLANDS': 'HEARD AND MCDONALD IS.',\n",
    "    'SAINT BARTHÉLEMY': 'SAINT BARTHELEMY',\n",
    "    'MAYOTTE': 'MAYOTTE (AFRICA - FRENCH)',\n",
    "    'RÉUNION': 'REUNION',\n",
    "    'BOUVET ISLAND': 'BOUVET ISLAND (ANTARCTICA/NORWAY TERR.)',\n",
    "    'SAINT VINCENT AND THE GRENADINES': 'ST. VINCENT-GRENADINES',\n",
    "    'SAINT PIERRE AND MIQUELON': 'ST. PIERRE AND MIQUELON',\n",
    "    'UNITED STATES MINOR OUTLYING ISLANDS': 'MINOR OUTLYING ISLANDS - USA',\n",
    "    'SOUTH SUDAN': 'REPUBLIC OF SOUTH SUDAN',\n",
    "    'BRITISH INDIAN OCEAN TERRITORY': 'INDIAN OCEAN TERRITORY'\n",
    "}\n",
    "\n",
    "iso_cleaning = iso_codes.select(\"*\", upper(col('Name')))\n",
    "iso_cleaning = iso_cleaning.replace(iso_dict, subset='Name') \\\n",
    "    .withColumnRenamed('upper(Name)', 'country') \\\n",
    "    .withColumnRenamed('Code', '2acode')"
   ]
  },
  {
   "cell_type": "code",
   "execution_count": 15,
   "metadata": {
    "editable": true
   },
   "outputs": [
    {
     "name": "stdout",
     "output_type": "stream",
     "text": [
      "+-------------------+------+-------------------+\n",
      "|               Name|2acode|            country|\n",
      "+-------------------+------+-------------------+\n",
      "|        Afghanistan|    AF|        AFGHANISTAN|\n",
      "|      Åland Islands|    AX|      ÅLAND ISLANDS|\n",
      "|            Albania|    AL|            ALBANIA|\n",
      "|            Algeria|    DZ|            ALGERIA|\n",
      "|     American Samoa|    AS|     AMERICAN SAMOA|\n",
      "|            Andorra|    AD|            ANDORRA|\n",
      "|             Angola|    AO|             ANGOLA|\n",
      "|           Anguilla|    AI|           ANGUILLA|\n",
      "|         Antarctica|    AQ|         ANTARCTICA|\n",
      "|Antigua and Barbuda|    AG|ANTIGUA AND BARBUDA|\n",
      "|          Argentina|    AR|          ARGENTINA|\n",
      "|            Armenia|    AM|            ARMENIA|\n",
      "|              Aruba|    AW|              ARUBA|\n",
      "|          Australia|    AU|          AUSTRALIA|\n",
      "|            Austria|    AT|            AUSTRIA|\n",
      "|         Azerbaijan|    AZ|         AZERBAIJAN|\n",
      "|            Bahamas|    BS|            BAHAMAS|\n",
      "|            Bahrain|    BH|            BAHRAIN|\n",
      "|         Bangladesh|    BD|         BANGLADESH|\n",
      "|           Barbados|    BB|           BARBADOS|\n",
      "+-------------------+------+-------------------+\n",
      "only showing top 20 rows\n",
      "\n"
     ]
    }
   ],
   "source": [
    "iso_cleaning.show()"
   ]
  },
  {
   "cell_type": "markdown",
   "metadata": {
    "editable": true
   },
   "source": [
    "### Step 3: Define the Data Model\n",
    "#### 3.1 Conceptual Data Model\n",
    "Map out the conceptual data model and explain why you chose that model\n",
    "\n",
    "The model for this project is a relatively normalized relational database, where redundancies have been eliminated and information that wasn't useful to the kinds of questions I wanted to ask was not used. Multiple joins are often necessary to answer questions with this data, and thus I am not intending this data to function in a business environment, where queries and decisions may need to happen fast. Instead, this database serves as a ground truth dataset, a snapshot in time, which I intended to be used for personal projects or academic research. However, this database may be converted into a snowflake schema focused around immigration arrivals as a fact table that grows over time should the need arise.\n",
    "\n",
    "#### 3.2 Mapping Out Data Pipelines\n",
    "List the steps necessary to pipeline the data into the chosen data model\n",
    "\n",
    "After the loading and cleaning steps outlined above, the arrivals data must be aggregated by our variables of interest (i.e. country of residency, month, year, port of entry, and visa category) and each country available should have the temperatures of its potentially many cities aggregated so there is just 1 mean temperature per country per month. Data that is not aggregated in this way is less useful for the questions I'd like to help answer, mostly about how climate change may influence travel over time. All tables should, at the end of this pipeline, have a country code listed in them, and they should match throughout the dataset so joins are possible.\n",
    "\n",
    "Once our aggregations are complete and joins are set up, our Spark dataframes should be converted to Pandas dataframes and their columns' data types specified so the data is more easily inserted into the Postgres database. This Postgres database needs to start from scratch -- if a database already exists, it and its tables are deleted so that clean table creations and inserts can happen.\n",
    "\n",
    "After our inserts, the database is committed, and we can check that everything ran as expected by comparing the outcomes of `SELECT COUNT(*)` statements to the values provided by our Pandas dataframes."
   ]
  },
  {
   "cell_type": "markdown",
   "metadata": {
    "editable": true
   },
   "source": [
    "### Step 4: Run Pipelines to Model the Data \n",
    "#### 4.1 Create the data model\n",
    "Build the data pipelines to create the data model."
   ]
  },
  {
   "cell_type": "code",
   "execution_count": 16,
   "metadata": {
    "editable": true
   },
   "outputs": [
    {
     "name": "stdout",
     "output_type": "stream",
     "text": [
      "root\n",
      " |-- i94yr: double (nullable = true)\n",
      " |-- i94mon: double (nullable = true)\n",
      " |-- i94res: double (nullable = true)\n",
      " |-- i94port: string (nullable = true)\n",
      " |-- i94visa: double (nullable = true)\n",
      " |-- count: long (nullable = false)\n",
      "\n",
      "root\n",
      " |-- country_id: double (nullable = true)\n",
      " |-- visa_type: double (nullable = true)\n",
      " |-- count: long (nullable = false)\n",
      " |-- year: double (nullable = true)\n",
      " |-- month: double (nullable = true)\n",
      " |-- port: string (nullable = true)\n",
      "\n"
     ]
    }
   ],
   "source": [
    "# immigration data\n",
    "\n",
    "# group by columns of interest\n",
    "immigration_grouped = immigration_df.groupBy(['i94yr', 'i94mon', 'i94res','i94port','i94visa']).count()\n",
    "immigration_grouped.printSchema()\n",
    "\n",
    "# reorder columns for a cleaner table\n",
    "immigration_grouped = immigration_grouped.select(['i94res', 'i94visa', 'count', 'i94yr', 'i94mon', 'i94port']) \\\n",
    "    .withColumnRenamed('i94res', 'country_id') \\\n",
    "    .withColumnRenamed('i94visa', 'visa_type') \\\n",
    "    .withColumnRenamed('i94yr', 'year') \\\n",
    "    .withColumnRenamed('i94mon', 'month') \\\n",
    "    .withColumnRenamed('i94port', 'port')\n",
    "immigration_grouped.printSchema()"
   ]
  },
  {
   "cell_type": "code",
   "execution_count": 17,
   "metadata": {
    "editable": true
   },
   "outputs": [
    {
     "data": {
      "text/plain": [
       "[Row(country_id=110.0, visa_type=2.0, count=1, year=2016.0, month=11.0, port='MRC'),\n",
       " Row(country_id=213.0, visa_type=1.0, count=849, year=2016.0, month=8.0, port='SEA'),\n",
       " Row(country_id=266.0, visa_type=1.0, count=302, year=2016.0, month=8.0, port='LOS'),\n",
       " Row(country_id=273.0, visa_type=1.0, count=154, year=2016.0, month=8.0, port='CHI'),\n",
       " Row(country_id=113.0, visa_type=1.0, count=2, year=2016.0, month=8.0, port='CIN')]"
      ]
     },
     "execution_count": 17,
     "metadata": {},
     "output_type": "execute_result"
    }
   ],
   "source": [
    "immigration_grouped.take(5)"
   ]
  },
  {
   "cell_type": "code",
   "execution_count": 18,
   "metadata": {
    "editable": true
   },
   "outputs": [
    {
     "name": "stdout",
     "output_type": "stream",
     "text": [
      "+-------+----+-----+-----------------------+\n",
      "|country|year|month|avg(AverageTemperature)|\n",
      "+-------+----+-----+-----------------------+\n",
      "|DENMARK|1749|    7|                   null|\n",
      "|DENMARK|1783|    5|                12.3845|\n",
      "|DENMARK|1791|   10|                  7.784|\n",
      "|DENMARK|1803|   10|      7.717499999999999|\n",
      "|DENMARK|1822|    3|                 5.2275|\n",
      "|DENMARK|1828|   12|                 1.5605|\n",
      "|DENMARK|1829|    6|     15.796499999999998|\n",
      "|DENMARK|1840|    3|     0.4474999999999999|\n",
      "|DENMARK|1846|    1|                 0.5315|\n",
      "|DENMARK|1890|   12|                 -2.749|\n",
      "|DENMARK|1904|    7|     16.805500000000002|\n",
      "|DENMARK|1909|    2|                -1.4415|\n",
      "|DENMARK|1919|    9|     13.520499999999998|\n",
      "|DENMARK|1935|    8|     16.619999999999997|\n",
      "|DENMARK|1946|   12|    0.32899999999999996|\n",
      "|DENMARK|1989|    5|                12.3165|\n",
      "|DENMARK|2010|    9|     13.213999999999999|\n",
      "| TURKEY|1746|    3|                   null|\n",
      "| TURKEY|1755|    3|      6.710619047619048|\n",
      "| TURKEY|1759|    2|     5.1897142857142855|\n",
      "+-------+----+-----+-----------------------+\n",
      "only showing top 20 rows\n",
      "\n"
     ]
    }
   ],
   "source": [
    "# temperature data\n",
    "\n",
    "# convert timestamp from type object to datetime for easy year/month extraction\n",
    "temp_cleaning = temp_cleaning.withColumn('month', date_format('dt', 'M'))\n",
    "temp_cleaning = temp_cleaning.withColumn('year', date_format('dt', 'y'))\n",
    "\n",
    "# find avg temp per country per month\n",
    "temp_avg = temp_cleaning.select(['AverageTemperature', 'country', 'year', 'month']) \\\n",
    "    .groupBy(['country', 'year', 'month']).mean()\n",
    "temp_avg.show()"
   ]
  },
  {
   "cell_type": "code",
   "execution_count": 19,
   "metadata": {
    "editable": true
   },
   "outputs": [],
   "source": [
    "# drop null avg temps, not useful\n",
    "temp_avg = temp_avg.na.drop(subset='avg(AverageTemperature)')\n",
    "\n",
    "# calculate F for Americans\n",
    "temp_avg = temp_avg.withColumn('AverageTemperatureF', (col('avg(AverageTemperature)') * 9/5) + 32) \\\n",
    "    .withColumnRenamed('avg(AverageTemperature)', 'AverageTemperature')\n",
    "\n",
    "# get country codes for temperature data table insertion & filtering\n",
    "temp_avg_ccode = temp_avg.join(countries_cleaning, 'country')\n",
    "\n",
    "# drop extra US code (407 wanted)\n",
    "temp_avg_ccode = temp_avg_ccode.filter(temp_avg_ccode.code != 583)\n",
    "\n",
    "# limit to the last 10 years of the dataset for relevance (2012 is max full year)\n",
    "temp_avg_ccode = temp_avg_ccode.filter(temp_avg_ccode.year >= 2002)\n",
    "\n",
    "# filter and reorder columns for cleaner table\n",
    "temp_avg_ccode = temp_avg_ccode.select(['code', 'year', 'month', 'AverageTemperature', 'AverageTemperatureF']) \\\n",
    "        .withColumnRenamed('AverageTemperature', 'avg_temp') \\\n",
    "        .withColumnRenamed('AverageTemperature', 'avg_tempF') "
   ]
  },
  {
   "cell_type": "code",
   "execution_count": 20,
   "metadata": {
    "editable": true
   },
   "outputs": [
    {
     "name": "stdout",
     "output_type": "stream",
     "text": [
      "+----+----+-----+------------------+-------------------+\n",
      "|code|year|month|          avg_temp|AverageTemperatureF|\n",
      "+----+----+-----+------------------+-------------------+\n",
      "| 108|2010|    9|13.213999999999999| 55.785199999999996|\n",
      "| 264|2005|    5|16.885254901960785| 62.393458823529414|\n",
      "| 264|2007|    7|25.741058823529414|  78.33390588235295|\n",
      "| 264|2013|    8|24.869686274509803|  76.76543529411765|\n",
      "| 155|2006|   10| 6.699666666666667|            44.0594|\n",
      "| 155|2012|    7|           23.6534|           74.57612|\n",
      "| 129|2002|    9|          19.85918|          67.746524|\n",
      "| 129|2002|   12|          10.79008|          51.422144|\n",
      "| 112|2007|    3|6.6928888888888896| 44.047200000000004|\n",
      "| 112|2007|   10|  8.76053086419753|  47.76895555555556|\n",
      "| 112|2009|    8|19.184518518518516|  66.53213333333333|\n",
      "| 388|2006|    6|26.399307692307694|  79.51875384615386|\n",
      "| 388|2009|   10|26.565846153846152|  79.81852307692307|\n",
      "| 135|2008|    1| 6.502838235294119| 43.705108823529415|\n",
      "| 135|2010|    2|2.7769264705882346| 36.998467647058824|\n",
      "| 582|2007|    4|21.229608247422686|  70.21329484536083|\n",
      "| 696|2006|    4|26.470499999999998|  79.64689999999999|\n",
      "| 696|2007|    5|           27.4092|  81.33655999999999|\n",
      "| 696|2011|    9|           26.8168|           80.27024|\n",
      "| 339|2008|    3|28.913111111111114|            84.0436|\n",
      "+----+----+-----+------------------+-------------------+\n",
      "only showing top 20 rows\n",
      "\n"
     ]
    }
   ],
   "source": [
    "temp_avg_ccode.show()"
   ]
  },
  {
   "cell_type": "code",
   "execution_count": 21,
   "metadata": {
    "editable": true
   },
   "outputs": [
    {
     "name": "stdout",
     "output_type": "stream",
     "text": [
      "+-------+----------------+----------+------+\n",
      "|   port|    municipality|country_id|region|\n",
      "+-------+----------------+----------+------+\n",
      "|    03N|   Utirik Island|       472|MH-UTI|\n",
      "|    AAD|           Adado|       397| SO-GA|\n",
      "|    ABE|        Cheshire|       135|GB-ENG|\n",
      "|    ABL|       Hampshire|       135|GB-ENG|\n",
      "|    ABP| Atkamba Mission|       441|PG-WPD|\n",
      "|    ABW|            Abau|       441|PG-CPM|\n",
      "|AD-0001|      La Massana|       102| AD-04|\n",
      "| AD-ALV|Andorra La Vella|       102| AD-07|\n",
      "|    ADC|       Andekombe|       441|PG-EHG|\n",
      "|    ADJ|       Caithness|       135|GB-SCT|\n",
      "|    ADV|        El Daein|       350| SD-DE|\n",
      "|AE-0001|           Batha|       261| SA-04|\n",
      "|AE-0002|           Dubai|       296| AE-DU|\n",
      "|AE-0003|            null|       296| AE-DU|\n",
      "|AE-0004|            null|       296| AE-DU|\n",
      "|AE-0005|            null|       296| AE-UQ|\n",
      "|AE-0006|       Jebel Ali|       296| AE-DU|\n",
      "|AE-0007|            null|       296| AE-DU|\n",
      "|AE-0008|            null|       296| AE-DU|\n",
      "|AE-0009|    Delma Island|       296| AE-AZ|\n",
      "+-------+----------------+----------+------+\n",
      "only showing top 20 rows\n",
      "\n"
     ]
    }
   ],
   "source": [
    "# airport data\n",
    "\n",
    "# slice to columns of interest, to establish where each airport is\n",
    "codes_filtered = codes.select(['ident', 'municipality', 'iso_country', 'iso_region']) \\\n",
    "    .withColumnRenamed('iso_country', '2acode')\n",
    "\n",
    "# merge with iso_codes and countries df to get country name and standard id across the dataset\n",
    "codes_iso = codes_filtered.join(iso_cleaning, on='2acode')\n",
    "\n",
    "codes_countries = codes_iso.join(countries_cleaning, on='country')\n",
    "\n",
    "# drop extra US code (407 wanted)\n",
    "codes_countries = codes_countries.filter(codes_countries.code != 583)\n",
    "\n",
    "# filter and reorder columns for clean table\n",
    "codes_countries = codes_countries.select(['ident', 'municipality', 'code', 'iso_region']) \\\n",
    "    .withColumnRenamed('ident', 'port') \\\n",
    "    .withColumnRenamed('code', 'country_id') \\\n",
    "    .withColumnRenamed('iso_region', 'region')\n",
    "codes_countries.show()\n",
    "\n",
    "# We're losing some data with countries info that doesn't entirely overlap"
   ]
  },
  {
   "cell_type": "code",
   "execution_count": 22,
   "metadata": {
    "editable": true
   },
   "outputs": [
    {
     "name": "stdout",
     "output_type": "stream",
     "text": [
      "root\n",
      " |-- port: string (nullable = true)\n",
      " |-- municipality: string (nullable = true)\n",
      " |-- country_id: integer (nullable = true)\n",
      " |-- region: string (nullable = true)\n",
      "\n"
     ]
    }
   ],
   "source": [
    "codes_countries.printSchema()"
   ]
  },
  {
   "cell_type": "code",
   "execution_count": 23,
   "metadata": {
    "editable": true
   },
   "outputs": [],
   "source": [
    "# countries data\n",
    "\n",
    "# reorder columns for clean table\n",
    "countries_cleaning = countries_cleaning.select(['code', 'country'])"
   ]
  },
  {
   "cell_type": "code",
   "execution_count": 24,
   "metadata": {
    "editable": true
   },
   "outputs": [
    {
     "name": "stdout",
     "output_type": "stream",
     "text": [
      "root\n",
      " |-- code: integer (nullable = true)\n",
      " |-- country: string (nullable = true)\n",
      "\n"
     ]
    }
   ],
   "source": [
    "countries_cleaning.printSchema()"
   ]
  },
  {
   "cell_type": "markdown",
   "metadata": {
    "editable": true
   },
   "source": [
    "#### Convert tables to pandas for Postgres insertion"
   ]
  },
  {
   "cell_type": "code",
   "execution_count": 25,
   "metadata": {
    "editable": true
   },
   "outputs": [
    {
     "data": {
      "text/plain": [
       "224941"
      ]
     },
     "execution_count": 25,
     "metadata": {},
     "output_type": "execute_result"
    }
   ],
   "source": [
    "immigration_grouped.count()"
   ]
  },
  {
   "cell_type": "code",
   "execution_count": 26,
   "metadata": {
    "editable": true
   },
   "outputs": [
    {
     "data": {
      "text/plain": [
       "21572"
      ]
     },
     "execution_count": 26,
     "metadata": {},
     "output_type": "execute_result"
    }
   ],
   "source": [
    "temp_avg_ccode.count()"
   ]
  },
  {
   "cell_type": "code",
   "execution_count": 27,
   "metadata": {
    "editable": true
   },
   "outputs": [],
   "source": [
    "immigration_grouped_p = immigration_grouped.toPandas()"
   ]
  },
  {
   "cell_type": "code",
   "execution_count": 28,
   "metadata": {
    "editable": true
   },
   "outputs": [],
   "source": [
    "temp_avg_ccode_p = temp_avg_ccode.toPandas()"
   ]
  },
  {
   "cell_type": "code",
   "execution_count": 29,
   "metadata": {
    "editable": true
   },
   "outputs": [],
   "source": [
    "codes_countries_p = codes_countries.toPandas()\n",
    "countries_cleaning_p = countries_cleaning.toPandas()"
   ]
  },
  {
   "cell_type": "code",
   "execution_count": 30,
   "metadata": {
    "editable": true
   },
   "outputs": [
    {
     "name": "stdout",
     "output_type": "stream",
     "text": [
      "<class 'pandas.core.frame.DataFrame'>\n",
      "RangeIndex: 224941 entries, 0 to 224940\n",
      "Data columns (total 6 columns):\n",
      "country_id    224941 non-null int32\n",
      "visa_type     224941 non-null int32\n",
      "count         224941 non-null int32\n",
      "year          224941 non-null int32\n",
      "month         224941 non-null int32\n",
      "port          224941 non-null object\n",
      "dtypes: int32(5), object(1)\n",
      "memory usage: 6.0+ MB\n"
     ]
    }
   ],
   "source": [
    "# convert columns to proper types\n",
    "immigration_grouped_p['country_id'] = immigration_grouped_p['country_id'].astype('int32')\n",
    "immigration_grouped_p['visa_type'] = immigration_grouped_p['visa_type'].astype('int32')\n",
    "immigration_grouped_p['count'] = immigration_grouped_p['count'].astype('int32')\n",
    "immigration_grouped_p['year'] = immigration_grouped_p['year'].astype('int32')\n",
    "immigration_grouped_p['month'] = immigration_grouped_p['month'].astype('int32')\n",
    "\n",
    "immigration_grouped_p.info()"
   ]
  },
  {
   "cell_type": "code",
   "execution_count": 31,
   "metadata": {
    "editable": true
   },
   "outputs": [
    {
     "data": {
      "text/html": [
       "<div>\n",
       "<style scoped>\n",
       "    .dataframe tbody tr th:only-of-type {\n",
       "        vertical-align: middle;\n",
       "    }\n",
       "\n",
       "    .dataframe tbody tr th {\n",
       "        vertical-align: top;\n",
       "    }\n",
       "\n",
       "    .dataframe thead th {\n",
       "        text-align: right;\n",
       "    }\n",
       "</style>\n",
       "<table border=\"1\" class=\"dataframe\">\n",
       "  <thead>\n",
       "    <tr style=\"text-align: right;\">\n",
       "      <th></th>\n",
       "      <th>country_id</th>\n",
       "      <th>visa_type</th>\n",
       "      <th>count</th>\n",
       "      <th>year</th>\n",
       "      <th>month</th>\n",
       "      <th>port</th>\n",
       "    </tr>\n",
       "  </thead>\n",
       "  <tbody>\n",
       "    <tr>\n",
       "      <th>0</th>\n",
       "      <td>110</td>\n",
       "      <td>2</td>\n",
       "      <td>1</td>\n",
       "      <td>2016</td>\n",
       "      <td>11</td>\n",
       "      <td>MRC</td>\n",
       "    </tr>\n",
       "    <tr>\n",
       "      <th>1</th>\n",
       "      <td>213</td>\n",
       "      <td>1</td>\n",
       "      <td>849</td>\n",
       "      <td>2016</td>\n",
       "      <td>8</td>\n",
       "      <td>SEA</td>\n",
       "    </tr>\n",
       "    <tr>\n",
       "      <th>2</th>\n",
       "      <td>266</td>\n",
       "      <td>1</td>\n",
       "      <td>302</td>\n",
       "      <td>2016</td>\n",
       "      <td>8</td>\n",
       "      <td>LOS</td>\n",
       "    </tr>\n",
       "    <tr>\n",
       "      <th>3</th>\n",
       "      <td>273</td>\n",
       "      <td>1</td>\n",
       "      <td>154</td>\n",
       "      <td>2016</td>\n",
       "      <td>8</td>\n",
       "      <td>CHI</td>\n",
       "    </tr>\n",
       "    <tr>\n",
       "      <th>4</th>\n",
       "      <td>113</td>\n",
       "      <td>1</td>\n",
       "      <td>2</td>\n",
       "      <td>2016</td>\n",
       "      <td>8</td>\n",
       "      <td>CIN</td>\n",
       "    </tr>\n",
       "  </tbody>\n",
       "</table>\n",
       "</div>"
      ],
      "text/plain": [
       "   country_id  visa_type  count  year  month port\n",
       "0         110          2      1  2016     11  MRC\n",
       "1         213          1    849  2016      8  SEA\n",
       "2         266          1    302  2016      8  LOS\n",
       "3         273          1    154  2016      8  CHI\n",
       "4         113          1      2  2016      8  CIN"
      ]
     },
     "execution_count": 31,
     "metadata": {},
     "output_type": "execute_result"
    }
   ],
   "source": [
    "immigration_grouped_p.head()"
   ]
  },
  {
   "cell_type": "code",
   "execution_count": 32,
   "metadata": {
    "editable": true
   },
   "outputs": [
    {
     "name": "stdout",
     "output_type": "stream",
     "text": [
      "<class 'pandas.core.frame.DataFrame'>\n",
      "RangeIndex: 21572 entries, 0 to 21571\n",
      "Data columns (total 5 columns):\n",
      "code                   21572 non-null int32\n",
      "year                   21572 non-null int32\n",
      "month                  21572 non-null int32\n",
      "avg_temp               21572 non-null float64\n",
      "AverageTemperatureF    21572 non-null float64\n",
      "dtypes: float64(2), int32(3)\n",
      "memory usage: 589.9 KB\n"
     ]
    }
   ],
   "source": [
    "temp_avg_ccode_p['year'] = temp_avg_ccode_p['year'].astype('int32')\n",
    "temp_avg_ccode_p['month'] = temp_avg_ccode_p['month'].astype('int32')\n",
    "\n",
    "temp_avg_ccode_p.info()"
   ]
  },
  {
   "cell_type": "code",
   "execution_count": 33,
   "metadata": {
    "editable": true
   },
   "outputs": [
    {
     "data": {
      "text/html": [
       "<div>\n",
       "<style scoped>\n",
       "    .dataframe tbody tr th:only-of-type {\n",
       "        vertical-align: middle;\n",
       "    }\n",
       "\n",
       "    .dataframe tbody tr th {\n",
       "        vertical-align: top;\n",
       "    }\n",
       "\n",
       "    .dataframe thead th {\n",
       "        text-align: right;\n",
       "    }\n",
       "</style>\n",
       "<table border=\"1\" class=\"dataframe\">\n",
       "  <thead>\n",
       "    <tr style=\"text-align: right;\">\n",
       "      <th></th>\n",
       "      <th>code</th>\n",
       "      <th>year</th>\n",
       "      <th>month</th>\n",
       "      <th>avg_temp</th>\n",
       "      <th>AverageTemperatureF</th>\n",
       "    </tr>\n",
       "  </thead>\n",
       "  <tbody>\n",
       "    <tr>\n",
       "      <th>0</th>\n",
       "      <td>108</td>\n",
       "      <td>2010</td>\n",
       "      <td>9</td>\n",
       "      <td>13.214000</td>\n",
       "      <td>55.785200</td>\n",
       "    </tr>\n",
       "    <tr>\n",
       "      <th>1</th>\n",
       "      <td>264</td>\n",
       "      <td>2005</td>\n",
       "      <td>5</td>\n",
       "      <td>16.885255</td>\n",
       "      <td>62.393459</td>\n",
       "    </tr>\n",
       "    <tr>\n",
       "      <th>2</th>\n",
       "      <td>264</td>\n",
       "      <td>2007</td>\n",
       "      <td>7</td>\n",
       "      <td>25.741059</td>\n",
       "      <td>78.333906</td>\n",
       "    </tr>\n",
       "    <tr>\n",
       "      <th>3</th>\n",
       "      <td>264</td>\n",
       "      <td>2013</td>\n",
       "      <td>8</td>\n",
       "      <td>24.869686</td>\n",
       "      <td>76.765435</td>\n",
       "    </tr>\n",
       "    <tr>\n",
       "      <th>4</th>\n",
       "      <td>155</td>\n",
       "      <td>2006</td>\n",
       "      <td>10</td>\n",
       "      <td>6.699667</td>\n",
       "      <td>44.059400</td>\n",
       "    </tr>\n",
       "  </tbody>\n",
       "</table>\n",
       "</div>"
      ],
      "text/plain": [
       "   code  year  month   avg_temp  AverageTemperatureF\n",
       "0   108  2010      9  13.214000            55.785200\n",
       "1   264  2005      5  16.885255            62.393459\n",
       "2   264  2007      7  25.741059            78.333906\n",
       "3   264  2013      8  24.869686            76.765435\n",
       "4   155  2006     10   6.699667            44.059400"
      ]
     },
     "execution_count": 33,
     "metadata": {},
     "output_type": "execute_result"
    }
   ],
   "source": [
    "temp_avg_ccode_p.head()"
   ]
  },
  {
   "cell_type": "code",
   "execution_count": 34,
   "metadata": {
    "editable": true
   },
   "outputs": [
    {
     "name": "stdout",
     "output_type": "stream",
     "text": [
      "<class 'pandas.core.frame.DataFrame'>\n",
      "RangeIndex: 24566 entries, 0 to 24565\n",
      "Data columns (total 4 columns):\n",
      "port            24566 non-null object\n",
      "municipality    20500 non-null object\n",
      "country_id      24566 non-null int32\n",
      "region          24566 non-null object\n",
      "dtypes: int32(1), object(3)\n",
      "memory usage: 671.8+ KB\n"
     ]
    }
   ],
   "source": [
    "codes_countries_p.info()"
   ]
  },
  {
   "cell_type": "code",
   "execution_count": 35,
   "metadata": {
    "editable": true
   },
   "outputs": [
    {
     "data": {
      "text/html": [
       "<div>\n",
       "<style scoped>\n",
       "    .dataframe tbody tr th:only-of-type {\n",
       "        vertical-align: middle;\n",
       "    }\n",
       "\n",
       "    .dataframe tbody tr th {\n",
       "        vertical-align: top;\n",
       "    }\n",
       "\n",
       "    .dataframe thead th {\n",
       "        text-align: right;\n",
       "    }\n",
       "</style>\n",
       "<table border=\"1\" class=\"dataframe\">\n",
       "  <thead>\n",
       "    <tr style=\"text-align: right;\">\n",
       "      <th></th>\n",
       "      <th>port</th>\n",
       "      <th>municipality</th>\n",
       "      <th>country_id</th>\n",
       "      <th>region</th>\n",
       "    </tr>\n",
       "  </thead>\n",
       "  <tbody>\n",
       "    <tr>\n",
       "      <th>0</th>\n",
       "      <td>03N</td>\n",
       "      <td>Utirik Island</td>\n",
       "      <td>472</td>\n",
       "      <td>MH-UTI</td>\n",
       "    </tr>\n",
       "    <tr>\n",
       "      <th>1</th>\n",
       "      <td>AAD</td>\n",
       "      <td>Adado</td>\n",
       "      <td>397</td>\n",
       "      <td>SO-GA</td>\n",
       "    </tr>\n",
       "    <tr>\n",
       "      <th>2</th>\n",
       "      <td>ABE</td>\n",
       "      <td>Cheshire</td>\n",
       "      <td>135</td>\n",
       "      <td>GB-ENG</td>\n",
       "    </tr>\n",
       "    <tr>\n",
       "      <th>3</th>\n",
       "      <td>ABL</td>\n",
       "      <td>Hampshire</td>\n",
       "      <td>135</td>\n",
       "      <td>GB-ENG</td>\n",
       "    </tr>\n",
       "    <tr>\n",
       "      <th>4</th>\n",
       "      <td>ABP</td>\n",
       "      <td>Atkamba Mission</td>\n",
       "      <td>441</td>\n",
       "      <td>PG-WPD</td>\n",
       "    </tr>\n",
       "  </tbody>\n",
       "</table>\n",
       "</div>"
      ],
      "text/plain": [
       "  port     municipality  country_id  region\n",
       "0  03N    Utirik Island         472  MH-UTI\n",
       "1  AAD            Adado         397   SO-GA\n",
       "2  ABE         Cheshire         135  GB-ENG\n",
       "3  ABL        Hampshire         135  GB-ENG\n",
       "4  ABP  Atkamba Mission         441  PG-WPD"
      ]
     },
     "execution_count": 35,
     "metadata": {},
     "output_type": "execute_result"
    }
   ],
   "source": [
    "codes_countries_p.head()"
   ]
  },
  {
   "cell_type": "code",
   "execution_count": 36,
   "metadata": {
    "editable": true
   },
   "outputs": [
    {
     "name": "stdout",
     "output_type": "stream",
     "text": [
      "<class 'pandas.core.frame.DataFrame'>\n",
      "RangeIndex: 289 entries, 0 to 288\n",
      "Data columns (total 2 columns):\n",
      "code       289 non-null int32\n",
      "country    289 non-null object\n",
      "dtypes: int32(1), object(1)\n",
      "memory usage: 3.5+ KB\n"
     ]
    }
   ],
   "source": [
    "countries_cleaning_p.info()"
   ]
  },
  {
   "cell_type": "code",
   "execution_count": 37,
   "metadata": {
    "editable": true
   },
   "outputs": [
    {
     "data": {
      "text/html": [
       "<div>\n",
       "<style scoped>\n",
       "    .dataframe tbody tr th:only-of-type {\n",
       "        vertical-align: middle;\n",
       "    }\n",
       "\n",
       "    .dataframe tbody tr th {\n",
       "        vertical-align: top;\n",
       "    }\n",
       "\n",
       "    .dataframe thead th {\n",
       "        text-align: right;\n",
       "    }\n",
       "</style>\n",
       "<table border=\"1\" class=\"dataframe\">\n",
       "  <thead>\n",
       "    <tr style=\"text-align: right;\">\n",
       "      <th></th>\n",
       "      <th>code</th>\n",
       "      <th>country</th>\n",
       "    </tr>\n",
       "  </thead>\n",
       "  <tbody>\n",
       "    <tr>\n",
       "      <th>0</th>\n",
       "      <td>582</td>\n",
       "      <td>MEXICO Air Sea, and Not Reported (I-94, no lan...</td>\n",
       "    </tr>\n",
       "    <tr>\n",
       "      <th>1</th>\n",
       "      <td>236</td>\n",
       "      <td>AFGHANISTAN</td>\n",
       "    </tr>\n",
       "    <tr>\n",
       "      <th>2</th>\n",
       "      <td>101</td>\n",
       "      <td>ALBANIA</td>\n",
       "    </tr>\n",
       "    <tr>\n",
       "      <th>3</th>\n",
       "      <td>316</td>\n",
       "      <td>ALGERIA</td>\n",
       "    </tr>\n",
       "    <tr>\n",
       "      <th>4</th>\n",
       "      <td>102</td>\n",
       "      <td>ANDORRA</td>\n",
       "    </tr>\n",
       "  </tbody>\n",
       "</table>\n",
       "</div>"
      ],
      "text/plain": [
       "   code                                            country\n",
       "0   582  MEXICO Air Sea, and Not Reported (I-94, no lan...\n",
       "1   236                                        AFGHANISTAN\n",
       "2   101                                            ALBANIA\n",
       "3   316                                            ALGERIA\n",
       "4   102                                            ANDORRA"
      ]
     },
     "execution_count": 37,
     "metadata": {},
     "output_type": "execute_result"
    }
   ],
   "source": [
    "countries_cleaning_p.head()"
   ]
  },
  {
   "cell_type": "markdown",
   "metadata": {
    "editable": true
   },
   "source": [
    "#### Delete/create/insert into database (preliminary)"
   ]
  },
  {
   "cell_type": "code",
   "execution_count": 38,
   "metadata": {
    "editable": true
   },
   "outputs": [],
   "source": [
    "import psycopg2\n",
    "from sql_queries import create_table_queries, drop_table_queries"
   ]
  },
  {
   "cell_type": "code",
   "execution_count": 39,
   "metadata": {
    "editable": true
   },
   "outputs": [],
   "source": [
    "# connect to default database\n",
    "conn = psycopg2.connect(\"host=127.0.0.1 dbname=studentdb user=student password=student\")\n",
    "conn.set_session(autocommit=True)\n",
    "cur = conn.cursor()\n",
    "\n",
    "# create capstone database with UTF8 encoding based on fresh template0\n",
    "cur.execute(\"DROP DATABASE IF EXISTS capstonedb\")\n",
    "cur.execute(\"CREATE DATABASE capstonedb WITH ENCODING 'utf8' TEMPLATE template0\")\n",
    "\n",
    "# close connection to default database\n",
    "conn.close()    \n",
    "\n",
    "# connect to capstone database\n",
    "conn = psycopg2.connect(\"host=127.0.0.1 dbname=capstonedb user=student password=student\")\n",
    "cur = conn.cursor()"
   ]
  },
  {
   "cell_type": "code",
   "execution_count": 40,
   "metadata": {
    "editable": true
   },
   "outputs": [],
   "source": [
    "# DROP TABLES\n",
    "arrivals_drop = \"DROP TABLE IF EXISTS arrivals;\"\n",
    "airports_drop = \"DROP TABLE IF EXISTS airports;\"\n",
    "countries_drop = \"DROP TABLE IF EXISTS countries;\"\n",
    "temp_drop = \"DROP TABLE IF EXISTS temp;\"\n",
    "\n",
    "drop_table_queries = [arrivals_drop, airports_drop, countries_drop, temp_drop]\n",
    "\n",
    "for query in drop_table_queries:\n",
    "    cur.execute(query)\n",
    "    conn.commit()"
   ]
  },
  {
   "cell_type": "code",
   "execution_count": 41,
   "metadata": {
    "editable": true
   },
   "outputs": [],
   "source": [
    "# CREATE TABLES\n",
    "arrivals_create = (\"\"\"CREATE TABLE IF NOT EXISTS arrivals (\n",
    "arrival_id serial PRIMARY KEY,\n",
    "country_id int,\n",
    "visa_type int,\n",
    "count int,\n",
    "year int NOT NULL,\n",
    "month int NOT NULL,\n",
    "port varchar\n",
    ");\n",
    "\"\"\")\n",
    "\n",
    "airports_create = (\"\"\"CREATE TABLE IF NOT EXISTS airports (\n",
    "port varchar PRIMARY KEY,\n",
    "municipality varchar,\n",
    "country_id int,\n",
    "region varchar\n",
    ");\n",
    "\"\"\")\n",
    "\n",
    "countries_create = (\"\"\"CREATE TABLE IF NOT EXISTS countries (\n",
    "country_id int PRIMARY KEY,\n",
    "country_name varchar\n",
    ");\n",
    "\"\"\")\n",
    "\n",
    "temp_create = (\"\"\"CREATE TABLE IF NOT EXISTS temp (\n",
    "temp_id serial PRIMARY KEY,\n",
    "country_id int,\n",
    "year int NOT NULL,\n",
    "month int NOT NULL,\n",
    "avg_temp float,\n",
    "avg_tempF float\n",
    ");\n",
    "\"\"\")\n",
    "\n",
    "create_table_queries = [arrivals_create, airports_create, countries_create, temp_create]\n",
    "\n",
    "for query in create_table_queries:\n",
    "    cur.execute(query)\n",
    "    conn.commit()"
   ]
  },
  {
   "cell_type": "code",
   "execution_count": 42,
   "metadata": {
    "editable": true
   },
   "outputs": [],
   "source": [
    "# INSERT RECORDS\n",
    "arrivals_insert = \"\"\"INSERT INTO arrivals \n",
    "(\n",
    "country_id,\n",
    "visa_type,\n",
    "count,\n",
    "month,\n",
    "year,\n",
    "port\n",
    ") \\\n",
    "VALUES (%s, %s, %s, %s, %s, %s)\n",
    "\"\"\"\n",
    "\n",
    "airports_insert = \"\"\"INSERT INTO airports \n",
    "(\n",
    "port,\n",
    "municipality,\n",
    "country_id,\n",
    "region\n",
    ") \\\n",
    "VALUES (%s, %s, %s, %s)\n",
    "\"\"\"\n",
    "\n",
    "countries_insert = \"\"\"INSERT INTO countries \n",
    "(\n",
    "country_id,\n",
    "country_name\n",
    ") \\\n",
    "VALUES (%s, %s)\n",
    "\"\"\"\n",
    "\n",
    "temp_insert = \"\"\"INSERT INTO temp \n",
    "(\n",
    "country_id,\n",
    "year,\n",
    "month,\n",
    "avg_temp,\n",
    "avg_tempF\n",
    ") \\\n",
    "VALUES (%s, %s, %s, %s, %s)\n",
    "\"\"\""
   ]
  },
  {
   "cell_type": "code",
   "execution_count": 43,
   "metadata": {
    "editable": true
   },
   "outputs": [],
   "source": [
    "# arrivals\n",
    "\n",
    "for i, row in immigration_grouped_p.iterrows():\n",
    "    cur.execute(arrivals_insert, list(row))"
   ]
  },
  {
   "cell_type": "code",
   "execution_count": 44,
   "metadata": {
    "editable": true
   },
   "outputs": [],
   "source": [
    "# airports\n",
    "\n",
    "for i, row in codes_countries_p.iterrows():\n",
    "    cur.execute(airports_insert, list(row))"
   ]
  },
  {
   "cell_type": "code",
   "execution_count": 45,
   "metadata": {
    "editable": true
   },
   "outputs": [],
   "source": [
    "# countries\n",
    "\n",
    "for i, row in countries_cleaning_p.iterrows():\n",
    "    cur.execute(countries_insert, list(row))"
   ]
  },
  {
   "cell_type": "code",
   "execution_count": 46,
   "metadata": {
    "editable": true
   },
   "outputs": [],
   "source": [
    "# temp\n",
    "\n",
    "for i, row in temp_avg_ccode_p.iterrows():\n",
    "    cur.execute(temp_insert, list(row))"
   ]
  },
  {
   "cell_type": "code",
   "execution_count": 47,
   "metadata": {
    "editable": true
   },
   "outputs": [],
   "source": [
    "conn.commit()\n",
    "conn.close()"
   ]
  },
  {
   "cell_type": "markdown",
   "metadata": {
    "editable": true
   },
   "source": [
    "#### 4.2 Data Quality Checks\n",
    "Explain the data quality checks you'll perform to ensure the pipeline ran as expected. These could include:\n",
    " * Integrity constraints on the relational database (e.g., unique key, data type, etc.)\n",
    " * Unit tests for the scripts to ensure they are doing the right thing\n",
    " * Source/Count checks to ensure completeness\n",
    " \n",
    "Run Quality Checks"
   ]
  },
  {
   "cell_type": "code",
   "execution_count": 48,
   "metadata": {
    "editable": true
   },
   "outputs": [],
   "source": [
    "import psycopg2\n",
    "\n",
    "# if not already connected, connect to capstone database\n",
    "conn = psycopg2.connect(\"host=127.0.0.1 dbname=capstonedb user=student password=student\")\n",
    "cur = conn.cursor()"
   ]
  },
  {
   "cell_type": "code",
   "execution_count": 49,
   "metadata": {
    "editable": true
   },
   "outputs": [
    {
     "name": "stdout",
     "output_type": "stream",
     "text": [
      "224941\n",
      "[(1, 110, 2, 1, 11, 2016, 'MRC'), (2, 213, 1, 849, 8, 2016, 'SEA'), (3, 266, 1, 302, 8, 2016, 'LOS'), (4, 273, 1, 154, 8, 2016, 'CHI'), (5, 113, 1, 2, 8, 2016, 'CIN')]\n"
     ]
    }
   ],
   "source": [
    "# arrivals should have 224941 lines and should look like the source df\n",
    "\n",
    "cur.execute(\"\"\"SELECT COUNT(*) FROM arrivals;\"\"\")\n",
    "print(cur.fetchone()[0])\n",
    "\n",
    "cur.execute(\"\"\"SELECT * FROM arrivals LIMIT 5;\"\"\")\n",
    "print(cur.fetchall())"
   ]
  },
  {
   "cell_type": "code",
   "execution_count": 50,
   "metadata": {
    "editable": true
   },
   "outputs": [
    {
     "name": "stdout",
     "output_type": "stream",
     "text": [
      "24566\n",
      "[('03N', 'Utirik Island', 472, 'MH-UTI'), ('AAD', 'Adado', 397, 'SO-GA'), ('ABE', 'Cheshire', 135, 'GB-ENG'), ('ABL', 'Hampshire', 135, 'GB-ENG'), ('ABP', 'Atkamba Mission', 441, 'PG-WPD')]\n"
     ]
    }
   ],
   "source": [
    "# airports should have 24566 lines\n",
    "cur.execute(\"\"\"SELECT COUNT(*) FROM airports;\"\"\")\n",
    "print(cur.fetchone()[0])\n",
    "\n",
    "cur.execute(\"\"\"SELECT * FROM airports LIMIT 5;\"\"\")\n",
    "print(cur.fetchall())"
   ]
  },
  {
   "cell_type": "code",
   "execution_count": 51,
   "metadata": {
    "editable": true
   },
   "outputs": [
    {
     "name": "stdout",
     "output_type": "stream",
     "text": [
      "289\n",
      "[(582, 'MEXICO Air Sea, and Not Reported (I-94, no land arrivals)'), (236, 'AFGHANISTAN'), (101, 'ALBANIA'), (316, 'ALGERIA'), (102, 'ANDORRA')]\n"
     ]
    }
   ],
   "source": [
    "# countries should have 289 lines\n",
    "cur.execute(\"\"\"SELECT COUNT(*) FROM countries;\"\"\")\n",
    "print(cur.fetchone()[0])\n",
    "\n",
    "cur.execute(\"\"\"SELECT * FROM countries LIMIT 5;\"\"\")\n",
    "print(cur.fetchall())"
   ]
  },
  {
   "cell_type": "code",
   "execution_count": 52,
   "metadata": {
    "editable": true
   },
   "outputs": [
    {
     "name": "stdout",
     "output_type": "stream",
     "text": [
      "21572\n",
      "[(1, 108, 2010, 9, 13.214, 55.7852), (2, 264, 2005, 5, 16.8852549019608, 62.3934588235294), (3, 264, 2007, 7, 25.7410588235294, 78.333905882353), (4, 264, 2013, 8, 24.8696862745098, 76.7654352941177), (5, 155, 2006, 10, 6.69966666666667, 44.0594)]\n"
     ]
    }
   ],
   "source": [
    "# temp should have 21572 lines\n",
    "cur.execute(\"\"\"SELECT COUNT(*) FROM temp;\"\"\")\n",
    "print(cur.fetchone()[0])\n",
    "\n",
    "cur.execute(\"\"\"SELECT * FROM temp LIMIT 5;\"\"\")\n",
    "print(cur.fetchall())"
   ]
  },
  {
   "cell_type": "code",
   "execution_count": 53,
   "metadata": {
    "editable": true
   },
   "outputs": [],
   "source": [
    "# close the connection when done\n",
    "conn.close()"
   ]
  },
  {
   "cell_type": "markdown",
   "metadata": {
    "editable": true
   },
   "source": [
    "#### 4.3 Data dictionary \n",
    "The data dictionary is provided at data_dictionary.tsv, and includes the variable name, the source, and description."
   ]
  },
  {
   "cell_type": "markdown",
   "metadata": {
    "editable": true
   },
   "source": [
    "#### Step 5: Complete Project Write Up\n",
    "* Clearly state the rationale for the choice of tools and technologies for the project.\n",
    "* Propose how often the data should be updated and why.\n",
    "* Write a description of how you would approach the problem differently under the following scenarios:\n",
    " * The data was increased by 100x.\n",
    " * The data populates a dashboard that must be updated on a daily basis by 7am every day.\n",
    " * The database needed to be accessed by 100+ people."
   ]
  },
  {
   "cell_type": "markdown",
   "metadata": {
    "editable": true
   },
   "source": [
    "#### Tool choice\n",
    "\n",
    "This is meant to be an infrequently-updated final dataset used for research purposes, and can be run fairly quickly with the use of Spark. The aggregated and clean dataframes resulting from the Spark pipeline are converted into Pandas dataframes and are then loaded into a Postgres database to allow for joins between the different tables. This setup allows the database to be most useful to people asking different questions of the data.\n",
    "\n",
    "This notebook format is more accessible to a wider range of individuals who might use the data, and can give them some familiarity with the dataset and how it works before using it themselves."
   ]
  },
  {
   "cell_type": "markdown",
   "metadata": {
    "editable": true
   },
   "source": [
    "#### Data updating\n",
    "\n",
    "Arrivals data should be added to on a monthly basis -- this dataset is meant to be aggregated on a full months' worth of data and any incomplete months would not be comparable to the rest of the data. Temperature data may also be useful if added on a month-by-month basis per country, to track arrivals over time as they relate to the temperature at the traveler's residence."
   ]
  },
  {
   "cell_type": "markdown",
   "metadata": {
    "editable": true
   },
   "source": [
    "##### Alternate scenarios\n",
    "\n",
    "If the data was increased by 100x: The data reading and output from these pipelines could no longer be stored in memory even on a parallelized single machine. All Spark dataframe work would need to be be run with a cluster, such as AWS EMR.\n",
    "\n",
    "If the pipelines were run on a daily basis by 7am: Airflow scheduling is called for in a use case such as this. An SLA may be provided to the DAG so its end time is monitored and does not pass 7am. Airflow may be combined with AWS EMR and the Apache Livy RESTful interface to more easily run Spark jobs in parallel.\n",
    "\n",
    "If the database needed to be accessed by 100+ people: This is a perfect use case for the database being hosted on cloud-managed services such as AWS Redshift, which can allow the pool of connections and queries to be distributed among multiple servers and their CPUs. If the number of connections grows, whatever hardware is being used may be scaled up (more CPUs) or out (more servers) without investing in on-premises setup and maintenance."
   ]
  },
  {
   "cell_type": "code",
   "execution_count": null,
   "metadata": {
    "editable": true
   },
   "outputs": [],
   "source": []
  },
  {
   "cell_type": "code",
   "execution_count": null,
   "metadata": {
    "editable": true
   },
   "outputs": [],
   "source": []
  },
  {
   "cell_type": "code",
   "execution_count": null,
   "metadata": {
    "editable": true
   },
   "outputs": [],
   "source": []
  },
  {
   "cell_type": "code",
   "execution_count": null,
   "metadata": {
    "editable": true
   },
   "outputs": [],
   "source": []
  }
 ],
 "metadata": {
  "kernelspec": {
   "display_name": "Python 3",
   "language": "python",
   "name": "python3"
  },
  "language_info": {
   "codemirror_mode": {
    "name": "ipython",
    "version": 3
   },
   "file_extension": ".py",
   "mimetype": "text/x-python",
   "name": "python",
   "nbconvert_exporter": "python",
   "pygments_lexer": "ipython3",
   "version": "3.6.3"
  }
 },
 "nbformat": 4,
 "nbformat_minor": 4
}
