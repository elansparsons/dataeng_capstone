{
 "cells": [
  {
   "cell_type": "markdown",
   "metadata": {
    "editable": true
   },
   "source": [
    "# Capstone dataset exploration"
   ]
  },
  {
   "cell_type": "code",
   "execution_count": 1,
   "metadata": {
    "editable": true
   },
   "outputs": [],
   "source": [
    "import pandas as pd\n",
    "import json"
   ]
  },
  {
   "cell_type": "markdown",
   "metadata": {
    "editable": true
   },
   "source": [
    "## Step 1 and 2, gathering and exploring data"
   ]
  },
  {
   "cell_type": "markdown",
   "metadata": {
    "editable": true
   },
   "source": [
    "Focus: Travel to the US by country of residence and month"
   ]
  },
  {
   "cell_type": "markdown",
   "metadata": {
    "editable": true
   },
   "source": [
    "Immigration data"
   ]
  },
  {
   "cell_type": "code",
   "execution_count": 2,
   "metadata": {
    "editable": true
   },
   "outputs": [],
   "source": [
    "months = {'jan': 1, 'feb': 2, 'mar': 3, 'apr': 4, 'may': 5, 'jun': 6, \n",
    "          'jul': 7, 'aug': 8, 'sep': 9, 'oct': 10, 'nov': 11, 'dec': 12}\n",
    "month = 'jun'"
   ]
  },
  {
   "cell_type": "code",
   "execution_count": 3,
   "metadata": {
    "editable": true
   },
   "outputs": [],
   "source": [
    "# read in data, use chunked months\n",
    "\n",
    "fname = '../../data/18-83510-I94-Data-2016/i94_jun16_sub.sas7bdat'\n",
    "\n",
    "immigration_data = []\n",
    "immigration = pd.read_sas(fname, 'sas7bdat', encoding=\"ISO-8859-1\", chunksize=10000)\n",
    "\n",
    "for chunk in immigration:\n",
    "    immigration_data.append(chunk)\n",
    "immigration_df = pd.concat(immigration_data)"
   ]
  },
  {
   "cell_type": "code",
   "execution_count": 4,
   "metadata": {
    "editable": true
   },
   "outputs": [
    {
     "data": {
      "text/plain": [
       "Index(['cicid', 'i94yr', 'i94mon', 'i94cit', 'i94res', 'i94port', 'arrdate',\n",
       "       'i94mode', 'i94addr', 'depdate', 'i94bir', 'i94visa', 'count',\n",
       "       'validres', 'delete_days', 'delete_mexl', 'delete_dup', 'delete_visa',\n",
       "       'delete_recdup', 'dtadfile', 'visapost', 'occup', 'entdepa', 'entdepd',\n",
       "       'entdepu', 'matflag', 'biryear', 'dtaddto', 'gender', 'insnum',\n",
       "       'airline', 'admnum', 'fltno', 'visatype'],\n",
       "      dtype='object')"
      ]
     },
     "execution_count": 4,
     "metadata": {},
     "output_type": "execute_result"
    }
   ],
   "source": [
    "immigration_df.columns"
   ]
  },
  {
   "cell_type": "code",
   "execution_count": 5,
   "metadata": {
    "editable": true
   },
   "outputs": [
    {
     "data": {
      "text/plain": [
       "3574989"
      ]
     },
     "execution_count": 5,
     "metadata": {},
     "output_type": "execute_result"
    }
   ],
   "source": [
    "len(immigration_df.duplicated())"
   ]
  },
  {
   "cell_type": "code",
   "execution_count": 6,
   "metadata": {
    "editable": true
   },
   "outputs": [],
   "source": [
    "# filter to i94visa = 2 (recreational travel)\n",
    "\n",
    "rec_travel = immigration_df[immigration_df['i94visa']==2]"
   ]
  },
  {
   "cell_type": "code",
   "execution_count": 7,
   "metadata": {
    "editable": true
   },
   "outputs": [],
   "source": [
    "# group by i94res (country of residence), i94port (inbound airport) -- uses cicid to count individuals\n",
    "\n",
    "rec_travel_grouped = rec_travel[['i94res','i94port','cicid']].groupby(['i94res', 'i94port']).count().reset_index().rename({'cicid':'count'},axis=1)"
   ]
  },
  {
   "cell_type": "code",
   "execution_count": 8,
   "metadata": {
    "editable": true
   },
   "outputs": [],
   "source": [
    "# without recreational filter -- year and month will be added back later\n",
    "immigration_grouped = immigration_df[['i94res','i94port', 'i94visa','cicid']].groupby(['i94res', 'i94port', 'i94visa']).count().reset_index().rename({'cicid':'count'},axis=1)"
   ]
  },
  {
   "cell_type": "code",
   "execution_count": 9,
   "metadata": {
    "editable": true
   },
   "outputs": [
    {
     "name": "stdout",
     "output_type": "stream",
     "text": [
      "18436\n",
      "   i94res i94port  i94visa  count\n",
      "0   101.0     ATL      1.0      7\n",
      "1   101.0     ATL      2.0     18\n",
      "2   101.0     ATL      3.0      1\n",
      "3   101.0     BLA      2.0      2\n",
      "4   101.0     BOS      1.0      6\n"
     ]
    }
   ],
   "source": [
    "print(len(immigration_grouped))\n",
    "print(immigration_grouped.head())"
   ]
  },
  {
   "cell_type": "code",
   "execution_count": 10,
   "metadata": {
    "editable": true
   },
   "outputs": [
    {
     "name": "stdout",
     "output_type": "stream",
     "text": [
      "9912\n",
      "18436\n"
     ]
    }
   ],
   "source": [
    "print(len(rec_travel_grouped))\n",
    "print(len(immigration_grouped))"
   ]
  },
  {
   "cell_type": "code",
   "execution_count": 11,
   "metadata": {
    "editable": true
   },
   "outputs": [
    {
     "data": {
      "text/plain": [
       "Index(['i94res', 'i94port', 'count'], dtype='object')"
      ]
     },
     "execution_count": 11,
     "metadata": {},
     "output_type": "execute_result"
    }
   ],
   "source": [
    "#cast to int for merging\n",
    "rec_travel_grouped['i94res'] = rec_travel_grouped['i94res'].astype(int)\n",
    "rec_travel_grouped = rec_travel_grouped.rename({'cicid':'count'}, axis=1)\n",
    "rec_travel_grouped.columns"
   ]
  },
  {
   "cell_type": "code",
   "execution_count": 12,
   "metadata": {
    "editable": true
   },
   "outputs": [],
   "source": [
    "rec_travel_grouped['month'] = months[month]"
   ]
  },
  {
   "cell_type": "markdown",
   "metadata": {
    "editable": true
   },
   "source": [
    "Airport codes"
   ]
  },
  {
   "cell_type": "code",
   "execution_count": 11,
   "metadata": {
    "editable": true
   },
   "outputs": [],
   "source": [
    "codes = pd.read_csv('airport-codes_csv.csv')"
   ]
  },
  {
   "cell_type": "code",
   "execution_count": 98,
   "metadata": {
    "editable": true
   },
   "outputs": [
    {
     "data": {
      "text/html": [
       "<div>\n",
       "<style scoped>\n",
       "    .dataframe tbody tr th:only-of-type {\n",
       "        vertical-align: middle;\n",
       "    }\n",
       "\n",
       "    .dataframe tbody tr th {\n",
       "        vertical-align: top;\n",
       "    }\n",
       "\n",
       "    .dataframe thead th {\n",
       "        text-align: right;\n",
       "    }\n",
       "</style>\n",
       "<table border=\"1\" class=\"dataframe\">\n",
       "  <thead>\n",
       "    <tr style=\"text-align: right;\">\n",
       "      <th></th>\n",
       "      <th>ident</th>\n",
       "      <th>type</th>\n",
       "      <th>name</th>\n",
       "      <th>elevation_ft</th>\n",
       "      <th>continent</th>\n",
       "      <th>iso_country</th>\n",
       "      <th>iso_region</th>\n",
       "      <th>municipality</th>\n",
       "      <th>gps_code</th>\n",
       "      <th>iata_code</th>\n",
       "      <th>local_code</th>\n",
       "      <th>coordinates</th>\n",
       "    </tr>\n",
       "  </thead>\n",
       "  <tbody>\n",
       "    <tr>\n",
       "      <th>0</th>\n",
       "      <td>00A</td>\n",
       "      <td>heliport</td>\n",
       "      <td>Total Rf Heliport</td>\n",
       "      <td>11.0</td>\n",
       "      <td>NaN</td>\n",
       "      <td>US</td>\n",
       "      <td>US-PA</td>\n",
       "      <td>Bensalem</td>\n",
       "      <td>00A</td>\n",
       "      <td>NaN</td>\n",
       "      <td>00A</td>\n",
       "      <td>-74.93360137939453, 40.07080078125</td>\n",
       "    </tr>\n",
       "    <tr>\n",
       "      <th>1</th>\n",
       "      <td>00AA</td>\n",
       "      <td>small_airport</td>\n",
       "      <td>Aero B Ranch Airport</td>\n",
       "      <td>3435.0</td>\n",
       "      <td>NaN</td>\n",
       "      <td>US</td>\n",
       "      <td>US-KS</td>\n",
       "      <td>Leoti</td>\n",
       "      <td>00AA</td>\n",
       "      <td>NaN</td>\n",
       "      <td>00AA</td>\n",
       "      <td>-101.473911, 38.704022</td>\n",
       "    </tr>\n",
       "    <tr>\n",
       "      <th>2</th>\n",
       "      <td>00AK</td>\n",
       "      <td>small_airport</td>\n",
       "      <td>Lowell Field</td>\n",
       "      <td>450.0</td>\n",
       "      <td>NaN</td>\n",
       "      <td>US</td>\n",
       "      <td>US-AK</td>\n",
       "      <td>Anchor Point</td>\n",
       "      <td>00AK</td>\n",
       "      <td>NaN</td>\n",
       "      <td>00AK</td>\n",
       "      <td>-151.695999146, 59.94919968</td>\n",
       "    </tr>\n",
       "    <tr>\n",
       "      <th>3</th>\n",
       "      <td>00AL</td>\n",
       "      <td>small_airport</td>\n",
       "      <td>Epps Airpark</td>\n",
       "      <td>820.0</td>\n",
       "      <td>NaN</td>\n",
       "      <td>US</td>\n",
       "      <td>US-AL</td>\n",
       "      <td>Harvest</td>\n",
       "      <td>00AL</td>\n",
       "      <td>NaN</td>\n",
       "      <td>00AL</td>\n",
       "      <td>-86.77030181884766, 34.86479949951172</td>\n",
       "    </tr>\n",
       "    <tr>\n",
       "      <th>4</th>\n",
       "      <td>00AR</td>\n",
       "      <td>closed</td>\n",
       "      <td>Newport Hospital &amp; Clinic Heliport</td>\n",
       "      <td>237.0</td>\n",
       "      <td>NaN</td>\n",
       "      <td>US</td>\n",
       "      <td>US-AR</td>\n",
       "      <td>Newport</td>\n",
       "      <td>NaN</td>\n",
       "      <td>NaN</td>\n",
       "      <td>NaN</td>\n",
       "      <td>-91.254898, 35.6087</td>\n",
       "    </tr>\n",
       "  </tbody>\n",
       "</table>\n",
       "</div>"
      ],
      "text/plain": [
       "  ident           type                                name  elevation_ft  \\\n",
       "0   00A       heliport                   Total Rf Heliport          11.0   \n",
       "1  00AA  small_airport                Aero B Ranch Airport        3435.0   \n",
       "2  00AK  small_airport                        Lowell Field         450.0   \n",
       "3  00AL  small_airport                        Epps Airpark         820.0   \n",
       "4  00AR         closed  Newport Hospital & Clinic Heliport         237.0   \n",
       "\n",
       "  continent iso_country iso_region  municipality gps_code iata_code  \\\n",
       "0       NaN          US      US-PA      Bensalem      00A       NaN   \n",
       "1       NaN          US      US-KS         Leoti     00AA       NaN   \n",
       "2       NaN          US      US-AK  Anchor Point     00AK       NaN   \n",
       "3       NaN          US      US-AL       Harvest     00AL       NaN   \n",
       "4       NaN          US      US-AR       Newport      NaN       NaN   \n",
       "\n",
       "  local_code                            coordinates  \n",
       "0        00A     -74.93360137939453, 40.07080078125  \n",
       "1       00AA                 -101.473911, 38.704022  \n",
       "2       00AK            -151.695999146, 59.94919968  \n",
       "3       00AL  -86.77030181884766, 34.86479949951172  \n",
       "4        NaN                    -91.254898, 35.6087  "
      ]
     },
     "execution_count": 98,
     "metadata": {},
     "output_type": "execute_result"
    }
   ],
   "source": [
    "codes.head()"
   ]
  },
  {
   "cell_type": "code",
   "execution_count": 12,
   "metadata": {
    "editable": true
   },
   "outputs": [],
   "source": [
    "# slice to columns of interest, to establish where each airport is\n",
    "\n",
    "codes = codes[['ident', 'municipality', 'iso_country', 'iso_region']]"
   ]
  },
  {
   "cell_type": "code",
   "execution_count": 24,
   "metadata": {
    "editable": true
   },
   "outputs": [],
   "source": [
    "# merge to grouped travel data\n",
    "rec_travel_port = rec_travel_grouped.merge(codes, left_on='i94port', right_on='ident', how='inner').drop(['iso_country', 'i94port'],axis=1)"
   ]
  },
  {
   "cell_type": "code",
   "execution_count": 25,
   "metadata": {
    "editable": true
   },
   "outputs": [
    {
     "name": "stdout",
     "output_type": "stream",
     "text": [
      "<class 'pandas.core.frame.DataFrame'>\n",
      "Int64Index: 530 entries, 0 to 529\n",
      "Data columns (total 6 columns):\n",
      "i94res          530 non-null int64\n",
      "count           530 non-null int64\n",
      "ident           530 non-null object\n",
      "municipality    467 non-null object\n",
      "iso_country     530 non-null object\n",
      "iso_region      530 non-null object\n",
      "dtypes: int64(2), object(4)\n",
      "memory usage: 29.0+ KB\n"
     ]
    }
   ],
   "source": [
    "rec_travel_port.info()"
   ]
  },
  {
   "cell_type": "code",
   "execution_count": 26,
   "metadata": {
    "editable": true
   },
   "outputs": [
    {
     "data": {
      "text/html": [
       "<div>\n",
       "<style scoped>\n",
       "    .dataframe tbody tr th:only-of-type {\n",
       "        vertical-align: middle;\n",
       "    }\n",
       "\n",
       "    .dataframe tbody tr th {\n",
       "        vertical-align: top;\n",
       "    }\n",
       "\n",
       "    .dataframe thead th {\n",
       "        text-align: right;\n",
       "    }\n",
       "</style>\n",
       "<table border=\"1\" class=\"dataframe\">\n",
       "  <thead>\n",
       "    <tr style=\"text-align: right;\">\n",
       "      <th></th>\n",
       "      <th>i94res</th>\n",
       "      <th>count</th>\n",
       "      <th>ident</th>\n",
       "      <th>municipality</th>\n",
       "      <th>iso_country</th>\n",
       "      <th>iso_region</th>\n",
       "    </tr>\n",
       "  </thead>\n",
       "  <tbody>\n",
       "    <tr>\n",
       "      <th>411</th>\n",
       "      <td>213</td>\n",
       "      <td>4</td>\n",
       "      <td>OTT</td>\n",
       "      <td>CotriguaÃ§u</td>\n",
       "      <td>BR</td>\n",
       "      <td>BR-MT</td>\n",
       "    </tr>\n",
       "    <tr>\n",
       "      <th>45</th>\n",
       "      <td>163</td>\n",
       "      <td>27</td>\n",
       "      <td>SFR</td>\n",
       "      <td>Los Angeles</td>\n",
       "      <td>US</td>\n",
       "      <td>US-CA</td>\n",
       "    </tr>\n",
       "    <tr>\n",
       "      <th>508</th>\n",
       "      <td>268</td>\n",
       "      <td>1</td>\n",
       "      <td>VIB</td>\n",
       "      <td>Ciudad ConstituciÃ³n</td>\n",
       "      <td>MX</td>\n",
       "      <td>MX-BCS</td>\n",
       "    </tr>\n",
       "    <tr>\n",
       "      <th>357</th>\n",
       "      <td>584</td>\n",
       "      <td>1</td>\n",
       "      <td>DER</td>\n",
       "      <td>Derim</td>\n",
       "      <td>PG</td>\n",
       "      <td>PG-MPL</td>\n",
       "    </tr>\n",
       "    <tr>\n",
       "      <th>346</th>\n",
       "      <td>387</td>\n",
       "      <td>1</td>\n",
       "      <td>DER</td>\n",
       "      <td>Derim</td>\n",
       "      <td>PG</td>\n",
       "      <td>PG-MPL</td>\n",
       "    </tr>\n",
       "    <tr>\n",
       "      <th>401</th>\n",
       "      <td>502</td>\n",
       "      <td>1</td>\n",
       "      <td>HTM</td>\n",
       "      <td>Hatgal</td>\n",
       "      <td>MN</td>\n",
       "      <td>MN-041</td>\n",
       "    </tr>\n",
       "    <tr>\n",
       "      <th>183</th>\n",
       "      <td>745</td>\n",
       "      <td>114</td>\n",
       "      <td>SFR</td>\n",
       "      <td>Los Angeles</td>\n",
       "      <td>US</td>\n",
       "      <td>US-CA</td>\n",
       "    </tr>\n",
       "    <tr>\n",
       "      <th>275</th>\n",
       "      <td>343</td>\n",
       "      <td>3</td>\n",
       "      <td>AUS</td>\n",
       "      <td>NaN</td>\n",
       "      <td>US</td>\n",
       "      <td>US-TX</td>\n",
       "    </tr>\n",
       "    <tr>\n",
       "      <th>397</th>\n",
       "      <td>368</td>\n",
       "      <td>2</td>\n",
       "      <td>HTM</td>\n",
       "      <td>Hatgal</td>\n",
       "      <td>MN</td>\n",
       "      <td>MN-041</td>\n",
       "    </tr>\n",
       "    <tr>\n",
       "      <th>381</th>\n",
       "      <td>158</td>\n",
       "      <td>4</td>\n",
       "      <td>HTM</td>\n",
       "      <td>Hatgal</td>\n",
       "      <td>MN</td>\n",
       "      <td>MN-041</td>\n",
       "    </tr>\n",
       "    <tr>\n",
       "      <th>407</th>\n",
       "      <td>691</td>\n",
       "      <td>1</td>\n",
       "      <td>HTM</td>\n",
       "      <td>Hatgal</td>\n",
       "      <td>MN</td>\n",
       "      <td>MN-041</td>\n",
       "    </tr>\n",
       "    <tr>\n",
       "      <th>66</th>\n",
       "      <td>249</td>\n",
       "      <td>186</td>\n",
       "      <td>SFR</td>\n",
       "      <td>Los Angeles</td>\n",
       "      <td>US</td>\n",
       "      <td>US-CA</td>\n",
       "    </tr>\n",
       "    <tr>\n",
       "      <th>329</th>\n",
       "      <td>273</td>\n",
       "      <td>8</td>\n",
       "      <td>DER</td>\n",
       "      <td>Derim</td>\n",
       "      <td>PG</td>\n",
       "      <td>PG-MPL</td>\n",
       "    </tr>\n",
       "    <tr>\n",
       "      <th>71</th>\n",
       "      <td>256</td>\n",
       "      <td>30</td>\n",
       "      <td>SFR</td>\n",
       "      <td>Los Angeles</td>\n",
       "      <td>US</td>\n",
       "      <td>US-CA</td>\n",
       "    </tr>\n",
       "    <tr>\n",
       "      <th>333</th>\n",
       "      <td>301</td>\n",
       "      <td>1</td>\n",
       "      <td>DER</td>\n",
       "      <td>Derim</td>\n",
       "      <td>PG</td>\n",
       "      <td>PG-MPL</td>\n",
       "    </tr>\n",
       "    <tr>\n",
       "      <th>404</th>\n",
       "      <td>586</td>\n",
       "      <td>2</td>\n",
       "      <td>HTM</td>\n",
       "      <td>Hatgal</td>\n",
       "      <td>MN</td>\n",
       "      <td>MN-041</td>\n",
       "    </tr>\n",
       "    <tr>\n",
       "      <th>126</th>\n",
       "      <td>389</td>\n",
       "      <td>1</td>\n",
       "      <td>SFR</td>\n",
       "      <td>Los Angeles</td>\n",
       "      <td>US</td>\n",
       "      <td>US-CA</td>\n",
       "    </tr>\n",
       "    <tr>\n",
       "      <th>11</th>\n",
       "      <td>113</td>\n",
       "      <td>178</td>\n",
       "      <td>SFR</td>\n",
       "      <td>Los Angeles</td>\n",
       "      <td>US</td>\n",
       "      <td>US-CA</td>\n",
       "    </tr>\n",
       "    <tr>\n",
       "      <th>220</th>\n",
       "      <td>688</td>\n",
       "      <td>3</td>\n",
       "      <td>ANZ</td>\n",
       "      <td>Angus Downs Station</td>\n",
       "      <td>AU</td>\n",
       "      <td>AU-NT</td>\n",
       "    </tr>\n",
       "    <tr>\n",
       "      <th>176</th>\n",
       "      <td>696</td>\n",
       "      <td>121</td>\n",
       "      <td>SFR</td>\n",
       "      <td>Los Angeles</td>\n",
       "      <td>US</td>\n",
       "      <td>US-CA</td>\n",
       "    </tr>\n",
       "  </tbody>\n",
       "</table>\n",
       "</div>"
      ],
      "text/plain": [
       "     i94res  count ident          municipality iso_country iso_region\n",
       "411     213      4   OTT           CotriguaÃ§u          BR      BR-MT\n",
       "45      163     27   SFR           Los Angeles          US      US-CA\n",
       "508     268      1   VIB  Ciudad ConstituciÃ³n          MX     MX-BCS\n",
       "357     584      1   DER                 Derim          PG     PG-MPL\n",
       "346     387      1   DER                 Derim          PG     PG-MPL\n",
       "401     502      1   HTM                Hatgal          MN     MN-041\n",
       "183     745    114   SFR           Los Angeles          US      US-CA\n",
       "275     343      3   AUS                   NaN          US      US-TX\n",
       "397     368      2   HTM                Hatgal          MN     MN-041\n",
       "381     158      4   HTM                Hatgal          MN     MN-041\n",
       "407     691      1   HTM                Hatgal          MN     MN-041\n",
       "66      249    186   SFR           Los Angeles          US      US-CA\n",
       "329     273      8   DER                 Derim          PG     PG-MPL\n",
       "71      256     30   SFR           Los Angeles          US      US-CA\n",
       "333     301      1   DER                 Derim          PG     PG-MPL\n",
       "404     586      2   HTM                Hatgal          MN     MN-041\n",
       "126     389      1   SFR           Los Angeles          US      US-CA\n",
       "11      113    178   SFR           Los Angeles          US      US-CA\n",
       "220     688      3   ANZ   Angus Downs Station          AU      AU-NT\n",
       "176     696    121   SFR           Los Angeles          US      US-CA"
      ]
     },
     "execution_count": 26,
     "metadata": {},
     "output_type": "execute_result"
    }
   ],
   "source": [
    "rec_travel_port.sample(20)"
   ]
  },
  {
   "cell_type": "code",
   "execution_count": 22,
   "metadata": {
    "editable": true
   },
   "outputs": [],
   "source": [
    "visitors_by_country = rec_travel_port[['i94res', 'iso_country', 'municipality', 'count']].groupby(['i94res', 'municipality']).sum().sort_values('count', ascending=False).reset_index()"
   ]
  },
  {
   "cell_type": "code",
   "execution_count": 23,
   "metadata": {
    "editable": true
   },
   "outputs": [
    {
     "data": {
      "text/html": [
       "<div>\n",
       "<style scoped>\n",
       "    .dataframe tbody tr th:only-of-type {\n",
       "        vertical-align: middle;\n",
       "    }\n",
       "\n",
       "    .dataframe tbody tr th {\n",
       "        vertical-align: top;\n",
       "    }\n",
       "\n",
       "    .dataframe thead th {\n",
       "        text-align: right;\n",
       "    }\n",
       "</style>\n",
       "<table border=\"1\" class=\"dataframe\">\n",
       "  <thead>\n",
       "    <tr style=\"text-align: right;\">\n",
       "      <th></th>\n",
       "      <th>i94res</th>\n",
       "      <th>municipality</th>\n",
       "      <th>count</th>\n",
       "    </tr>\n",
       "  </thead>\n",
       "  <tbody>\n",
       "    <tr>\n",
       "      <th>0</th>\n",
       "      <td>245</td>\n",
       "      <td>Los Angeles</td>\n",
       "      <td>25802</td>\n",
       "    </tr>\n",
       "    <tr>\n",
       "      <th>1</th>\n",
       "      <td>213</td>\n",
       "      <td>Los Angeles</td>\n",
       "      <td>13751</td>\n",
       "    </tr>\n",
       "    <tr>\n",
       "      <th>2</th>\n",
       "      <td>135</td>\n",
       "      <td>Los Angeles</td>\n",
       "      <td>12518</td>\n",
       "    </tr>\n",
       "    <tr>\n",
       "      <th>3</th>\n",
       "      <td>438</td>\n",
       "      <td>Los Angeles</td>\n",
       "      <td>10290</td>\n",
       "    </tr>\n",
       "    <tr>\n",
       "      <th>4</th>\n",
       "      <td>112</td>\n",
       "      <td>Los Angeles</td>\n",
       "      <td>9288</td>\n",
       "    </tr>\n",
       "  </tbody>\n",
       "</table>\n",
       "</div>"
      ],
      "text/plain": [
       "   i94res municipality  count\n",
       "0     245  Los Angeles  25802\n",
       "1     213  Los Angeles  13751\n",
       "2     135  Los Angeles  12518\n",
       "3     438  Los Angeles  10290\n",
       "4     112  Los Angeles   9288"
      ]
     },
     "execution_count": 23,
     "metadata": {},
     "output_type": "execute_result"
    }
   ],
   "source": [
    "visitors_by_country.head()"
   ]
  },
  {
   "cell_type": "code",
   "execution_count": 131,
   "metadata": {
    "editable": true
   },
   "outputs": [
    {
     "data": {
      "text/plain": [
       "277"
      ]
     },
     "execution_count": 131,
     "metadata": {},
     "output_type": "execute_result"
    }
   ],
   "source": [
    "len(visitors_by_country)"
   ]
  },
  {
   "cell_type": "code",
   "execution_count": 15,
   "metadata": {
    "editable": true
   },
   "outputs": [],
   "source": [
    "# country names read in for easier reading by humans -- codes taken from I94_SAS_Labels_Descriptions.SAS\n",
    "countries_df = pd.read_json('countries.json')\n",
    "countries_df['code'] = countries_df['code'].astype(int)"
   ]
  },
  {
   "cell_type": "code",
   "execution_count": 27,
   "metadata": {
    "editable": true
   },
   "outputs": [],
   "source": [
    "# merge for country names\n",
    "visitors_by_country = visitors_by_country.merge(countries_df, left_on='i94res', right_on='code', how='left').drop('code', axis=1)"
   ]
  },
  {
   "cell_type": "code",
   "execution_count": 28,
   "metadata": {
    "editable": true
   },
   "outputs": [
    {
     "data": {
      "text/html": [
       "<div>\n",
       "<style scoped>\n",
       "    .dataframe tbody tr th:only-of-type {\n",
       "        vertical-align: middle;\n",
       "    }\n",
       "\n",
       "    .dataframe tbody tr th {\n",
       "        vertical-align: top;\n",
       "    }\n",
       "\n",
       "    .dataframe thead th {\n",
       "        text-align: right;\n",
       "    }\n",
       "</style>\n",
       "<table border=\"1\" class=\"dataframe\">\n",
       "  <thead>\n",
       "    <tr style=\"text-align: right;\">\n",
       "      <th></th>\n",
       "      <th>i94res</th>\n",
       "      <th>municipality</th>\n",
       "      <th>count</th>\n",
       "      <th>country</th>\n",
       "    </tr>\n",
       "  </thead>\n",
       "  <tbody>\n",
       "    <tr>\n",
       "      <th>0</th>\n",
       "      <td>245</td>\n",
       "      <td>Los Angeles</td>\n",
       "      <td>25802</td>\n",
       "      <td>CHINA, PRC</td>\n",
       "    </tr>\n",
       "    <tr>\n",
       "      <th>1</th>\n",
       "      <td>213</td>\n",
       "      <td>Los Angeles</td>\n",
       "      <td>13751</td>\n",
       "      <td>INDIA</td>\n",
       "    </tr>\n",
       "    <tr>\n",
       "      <th>2</th>\n",
       "      <td>135</td>\n",
       "      <td>Los Angeles</td>\n",
       "      <td>12518</td>\n",
       "      <td>UNITED KINGDOM</td>\n",
       "    </tr>\n",
       "    <tr>\n",
       "      <th>3</th>\n",
       "      <td>438</td>\n",
       "      <td>Los Angeles</td>\n",
       "      <td>10290</td>\n",
       "      <td>AUSTRALIA</td>\n",
       "    </tr>\n",
       "    <tr>\n",
       "      <th>4</th>\n",
       "      <td>112</td>\n",
       "      <td>Los Angeles</td>\n",
       "      <td>9288</td>\n",
       "      <td>GERMANY</td>\n",
       "    </tr>\n",
       "    <tr>\n",
       "      <th>5</th>\n",
       "      <td>276</td>\n",
       "      <td>Los Angeles</td>\n",
       "      <td>9012</td>\n",
       "      <td>SOUTH KOREA</td>\n",
       "    </tr>\n",
       "    <tr>\n",
       "      <th>6</th>\n",
       "      <td>268</td>\n",
       "      <td>Los Angeles</td>\n",
       "      <td>7799</td>\n",
       "      <td>TAIWAN</td>\n",
       "    </tr>\n",
       "    <tr>\n",
       "      <th>7</th>\n",
       "      <td>111</td>\n",
       "      <td>Los Angeles</td>\n",
       "      <td>7406</td>\n",
       "      <td>FRANCE</td>\n",
       "    </tr>\n",
       "    <tr>\n",
       "      <th>8</th>\n",
       "      <td>209</td>\n",
       "      <td>Los Angeles</td>\n",
       "      <td>7390</td>\n",
       "      <td>JAPAN</td>\n",
       "    </tr>\n",
       "    <tr>\n",
       "      <th>9</th>\n",
       "      <td>582</td>\n",
       "      <td>Los Angeles</td>\n",
       "      <td>4904</td>\n",
       "      <td>MEXICO Air Sea, and Not Reported (I-94, no lan...</td>\n",
       "    </tr>\n",
       "  </tbody>\n",
       "</table>\n",
       "</div>"
      ],
      "text/plain": [
       "   i94res municipality  count  \\\n",
       "0     245  Los Angeles  25802   \n",
       "1     213  Los Angeles  13751   \n",
       "2     135  Los Angeles  12518   \n",
       "3     438  Los Angeles  10290   \n",
       "4     112  Los Angeles   9288   \n",
       "5     276  Los Angeles   9012   \n",
       "6     268  Los Angeles   7799   \n",
       "7     111  Los Angeles   7406   \n",
       "8     209  Los Angeles   7390   \n",
       "9     582  Los Angeles   4904   \n",
       "\n",
       "                                             country  \n",
       "0                                         CHINA, PRC  \n",
       "1                                              INDIA  \n",
       "2                                     UNITED KINGDOM  \n",
       "3                                          AUSTRALIA  \n",
       "4                                            GERMANY  \n",
       "5                                        SOUTH KOREA  \n",
       "6                                             TAIWAN  \n",
       "7                                             FRANCE  \n",
       "8                                              JAPAN  \n",
       "9  MEXICO Air Sea, and Not Reported (I-94, no lan...  "
      ]
     },
     "execution_count": 28,
     "metadata": {},
     "output_type": "execute_result"
    }
   ],
   "source": [
    "visitors_by_country.head(10)"
   ]
  },
  {
   "cell_type": "code",
   "execution_count": 30,
   "metadata": {
    "editable": true
   },
   "outputs": [
    {
     "data": {
      "text/plain": [
       "False"
      ]
     },
     "execution_count": 30,
     "metadata": {},
     "output_type": "execute_result"
    }
   ],
   "source": [
    "# strip country name of whitespace if exists (Argentina)\n",
    "'ARGENTINA ' in visitors_by_country['country'].values"
   ]
  },
  {
   "cell_type": "code",
   "execution_count": 28,
   "metadata": {
    "editable": true
   },
   "outputs": [
    {
     "data": {
      "text/plain": [
       "562"
      ]
     },
     "execution_count": 28,
     "metadata": {},
     "output_type": "execute_result"
    }
   ],
   "source": [
    "len(visitors_by_country)"
   ]
  },
  {
   "cell_type": "code",
   "execution_count": 29,
   "metadata": {
    "editable": true
   },
   "outputs": [
    {
     "data": {
      "text/html": [
       "<div>\n",
       "<style scoped>\n",
       "    .dataframe tbody tr th:only-of-type {\n",
       "        vertical-align: middle;\n",
       "    }\n",
       "\n",
       "    .dataframe tbody tr th {\n",
       "        vertical-align: top;\n",
       "    }\n",
       "\n",
       "    .dataframe thead th {\n",
       "        text-align: right;\n",
       "    }\n",
       "</style>\n",
       "<table border=\"1\" class=\"dataframe\">\n",
       "  <thead>\n",
       "    <tr style=\"text-align: right;\">\n",
       "      <th></th>\n",
       "      <th>count</th>\n",
       "    </tr>\n",
       "    <tr>\n",
       "      <th>country</th>\n",
       "      <th></th>\n",
       "    </tr>\n",
       "  </thead>\n",
       "  <tbody>\n",
       "    <tr>\n",
       "      <th>CHINA, PRC</th>\n",
       "      <td>13312</td>\n",
       "    </tr>\n",
       "    <tr>\n",
       "      <th>UNITED KINGDOM</th>\n",
       "      <td>9817</td>\n",
       "    </tr>\n",
       "    <tr>\n",
       "      <th>FRANCE</th>\n",
       "      <td>8459</td>\n",
       "    </tr>\n",
       "    <tr>\n",
       "      <th>JAPAN</th>\n",
       "      <td>7526</td>\n",
       "    </tr>\n",
       "    <tr>\n",
       "      <th>SOUTH KOREA</th>\n",
       "      <td>7455</td>\n",
       "    </tr>\n",
       "    <tr>\n",
       "      <th>GERMANY</th>\n",
       "      <td>6874</td>\n",
       "    </tr>\n",
       "    <tr>\n",
       "      <th>INDIA</th>\n",
       "      <td>6662</td>\n",
       "    </tr>\n",
       "    <tr>\n",
       "      <th>AUSTRALIA</th>\n",
       "      <td>5678</td>\n",
       "    </tr>\n",
       "    <tr>\n",
       "      <th>MEXICO Air Sea, and Not Reported (I-94, no land arrivals)</th>\n",
       "      <td>3960</td>\n",
       "    </tr>\n",
       "    <tr>\n",
       "      <th>TAIWAN</th>\n",
       "      <td>2835</td>\n",
       "    </tr>\n",
       "    <tr>\n",
       "      <th>NETHERLANDS</th>\n",
       "      <td>2816</td>\n",
       "    </tr>\n",
       "    <tr>\n",
       "      <th>PHILIPPINES</th>\n",
       "      <td>2635</td>\n",
       "    </tr>\n",
       "    <tr>\n",
       "      <th>NEW ZEALAND</th>\n",
       "      <td>2474</td>\n",
       "    </tr>\n",
       "    <tr>\n",
       "      <th>SWITZERLAND</th>\n",
       "      <td>2450</td>\n",
       "    </tr>\n",
       "    <tr>\n",
       "      <th>ISRAEL</th>\n",
       "      <td>2091</td>\n",
       "    </tr>\n",
       "    <tr>\n",
       "      <th>SWEDEN</th>\n",
       "      <td>1806</td>\n",
       "    </tr>\n",
       "    <tr>\n",
       "      <th>ITALY</th>\n",
       "      <td>1606</td>\n",
       "    </tr>\n",
       "    <tr>\n",
       "      <th>THAILAND</th>\n",
       "      <td>1501</td>\n",
       "    </tr>\n",
       "    <tr>\n",
       "      <th>BRAZIL</th>\n",
       "      <td>1232</td>\n",
       "    </tr>\n",
       "    <tr>\n",
       "      <th>DENMARK</th>\n",
       "      <td>1179</td>\n",
       "    </tr>\n",
       "    <tr>\n",
       "      <th>ARGENTINA</th>\n",
       "      <td>1132</td>\n",
       "    </tr>\n",
       "    <tr>\n",
       "      <th>SINGAPORE</th>\n",
       "      <td>968</td>\n",
       "    </tr>\n",
       "    <tr>\n",
       "      <th>SPAIN</th>\n",
       "      <td>818</td>\n",
       "    </tr>\n",
       "    <tr>\n",
       "      <th>HONG KONG</th>\n",
       "      <td>813</td>\n",
       "    </tr>\n",
       "    <tr>\n",
       "      <th>TURKEY</th>\n",
       "      <td>732</td>\n",
       "    </tr>\n",
       "    <tr>\n",
       "      <th>IRELAND</th>\n",
       "      <td>684</td>\n",
       "    </tr>\n",
       "    <tr>\n",
       "      <th>VIETNAM</th>\n",
       "      <td>634</td>\n",
       "    </tr>\n",
       "    <tr>\n",
       "      <th>COLOMBIA</th>\n",
       "      <td>631</td>\n",
       "    </tr>\n",
       "    <tr>\n",
       "      <th>AUSTRIA</th>\n",
       "      <td>588</td>\n",
       "    </tr>\n",
       "    <tr>\n",
       "      <th>BELGIUM</th>\n",
       "      <td>575</td>\n",
       "    </tr>\n",
       "    <tr>\n",
       "      <th>...</th>\n",
       "      <td>...</td>\n",
       "    </tr>\n",
       "    <tr>\n",
       "      <th>KIRIBATI</th>\n",
       "      <td>2</td>\n",
       "    </tr>\n",
       "    <tr>\n",
       "      <th>CENTRAL AFRICAN REPUBLIC</th>\n",
       "      <td>2</td>\n",
       "    </tr>\n",
       "    <tr>\n",
       "      <th>NIGER</th>\n",
       "      <td>2</td>\n",
       "    </tr>\n",
       "    <tr>\n",
       "      <th>MALAWI</th>\n",
       "      <td>2</td>\n",
       "    </tr>\n",
       "    <tr>\n",
       "      <th>BURKINA FASO</th>\n",
       "      <td>2</td>\n",
       "    </tr>\n",
       "    <tr>\n",
       "      <th>YEMEN</th>\n",
       "      <td>2</td>\n",
       "    </tr>\n",
       "    <tr>\n",
       "      <th>RWANDA</th>\n",
       "      <td>2</td>\n",
       "    </tr>\n",
       "    <tr>\n",
       "      <th>MADAGASCAR</th>\n",
       "      <td>2</td>\n",
       "    </tr>\n",
       "    <tr>\n",
       "      <th>BHUTAN</th>\n",
       "      <td>1</td>\n",
       "    </tr>\n",
       "    <tr>\n",
       "      <th>BENIN</th>\n",
       "      <td>1</td>\n",
       "    </tr>\n",
       "    <tr>\n",
       "      <th>ARMENIA</th>\n",
       "      <td>1</td>\n",
       "    </tr>\n",
       "    <tr>\n",
       "      <th>NAURU</th>\n",
       "      <td>1</td>\n",
       "    </tr>\n",
       "    <tr>\n",
       "      <th>ANDORRA</th>\n",
       "      <td>1</td>\n",
       "    </tr>\n",
       "    <tr>\n",
       "      <th>MALI</th>\n",
       "      <td>1</td>\n",
       "    </tr>\n",
       "    <tr>\n",
       "      <th>MOZAMBIQUE</th>\n",
       "      <td>1</td>\n",
       "    </tr>\n",
       "    <tr>\n",
       "      <th>TOGO</th>\n",
       "      <td>1</td>\n",
       "    </tr>\n",
       "    <tr>\n",
       "      <th>CONGO</th>\n",
       "      <td>1</td>\n",
       "    </tr>\n",
       "    <tr>\n",
       "      <th>CURACAO</th>\n",
       "      <td>1</td>\n",
       "    </tr>\n",
       "    <tr>\n",
       "      <th>SUDAN</th>\n",
       "      <td>1</td>\n",
       "    </tr>\n",
       "    <tr>\n",
       "      <th>ST. VINCENT-GRENADINES</th>\n",
       "      <td>1</td>\n",
       "    </tr>\n",
       "    <tr>\n",
       "      <th>ST. PIERRE AND MIQUELON</th>\n",
       "      <td>1</td>\n",
       "    </tr>\n",
       "    <tr>\n",
       "      <th>NETHERLANDS ANTILLES</th>\n",
       "      <td>1</td>\n",
       "    </tr>\n",
       "    <tr>\n",
       "      <th>SOMALIA</th>\n",
       "      <td>1</td>\n",
       "    </tr>\n",
       "    <tr>\n",
       "      <th>FAROE ISLANDS (PART OF DENMARK)</th>\n",
       "      <td>1</td>\n",
       "    </tr>\n",
       "    <tr>\n",
       "      <th>FRENCH GUIANA</th>\n",
       "      <td>1</td>\n",
       "    </tr>\n",
       "    <tr>\n",
       "      <th>FRENCH POLYNESIA</th>\n",
       "      <td>1</td>\n",
       "    </tr>\n",
       "    <tr>\n",
       "      <th>SEYCHELLES</th>\n",
       "      <td>1</td>\n",
       "    </tr>\n",
       "    <tr>\n",
       "      <th>PAPUA NEW GUINEA</th>\n",
       "      <td>1</td>\n",
       "    </tr>\n",
       "    <tr>\n",
       "      <th>SAN MARINO</th>\n",
       "      <td>1</td>\n",
       "    </tr>\n",
       "    <tr>\n",
       "      <th>EQUATORIAL GUINEA</th>\n",
       "      <td>1</td>\n",
       "    </tr>\n",
       "  </tbody>\n",
       "</table>\n",
       "<p>191 rows × 1 columns</p>\n",
       "</div>"
      ],
      "text/plain": [
       "                                                    count\n",
       "country                                                  \n",
       "CHINA, PRC                                          13312\n",
       "UNITED KINGDOM                                       9817\n",
       "FRANCE                                               8459\n",
       "JAPAN                                                7526\n",
       "SOUTH KOREA                                          7455\n",
       "GERMANY                                              6874\n",
       "INDIA                                                6662\n",
       "AUSTRALIA                                            5678\n",
       "MEXICO Air Sea, and Not Reported (I-94, no land...   3960\n",
       "TAIWAN                                               2835\n",
       "NETHERLANDS                                          2816\n",
       "PHILIPPINES                                          2635\n",
       "NEW ZEALAND                                          2474\n",
       "SWITZERLAND                                          2450\n",
       "ISRAEL                                               2091\n",
       "SWEDEN                                               1806\n",
       "ITALY                                                1606\n",
       "THAILAND                                             1501\n",
       "BRAZIL                                               1232\n",
       "DENMARK                                              1179\n",
       "ARGENTINA                                            1132\n",
       "SINGAPORE                                             968\n",
       "SPAIN                                                 818\n",
       "HONG KONG                                             813\n",
       "TURKEY                                                732\n",
       "IRELAND                                               684\n",
       "VIETNAM                                               634\n",
       "COLOMBIA                                              631\n",
       "AUSTRIA                                               588\n",
       "BELGIUM                                               575\n",
       "...                                                   ...\n",
       "KIRIBATI                                                2\n",
       "CENTRAL AFRICAN REPUBLIC                                2\n",
       "NIGER                                                   2\n",
       "MALAWI                                                  2\n",
       "BURKINA FASO                                            2\n",
       "YEMEN                                                   2\n",
       "RWANDA                                                  2\n",
       "MADAGASCAR                                              2\n",
       "BHUTAN                                                  1\n",
       "BENIN                                                   1\n",
       "ARMENIA                                                 1\n",
       "NAURU                                                   1\n",
       "ANDORRA                                                 1\n",
       "MALI                                                    1\n",
       "MOZAMBIQUE                                              1\n",
       "TOGO                                                    1\n",
       "CONGO                                                   1\n",
       "CURACAO                                                 1\n",
       "SUDAN                                                   1\n",
       "ST. VINCENT-GRENADINES                                  1\n",
       "ST. PIERRE AND MIQUELON                                 1\n",
       "NETHERLANDS ANTILLES                                    1\n",
       "SOMALIA                                                 1\n",
       "FAROE ISLANDS (PART OF DENMARK)                         1\n",
       "FRENCH GUIANA                                           1\n",
       "FRENCH POLYNESIA                                        1\n",
       "SEYCHELLES                                              1\n",
       "PAPUA NEW GUINEA                                        1\n",
       "SAN MARINO                                              1\n",
       "EQUATORIAL GUINEA                                       1\n",
       "\n",
       "[191 rows x 1 columns]"
      ]
     },
     "execution_count": 29,
     "metadata": {},
     "output_type": "execute_result"
    }
   ],
   "source": [
    "visitors_by_country[['country','count']].groupby('country').sum().sort_values('count', ascending=False)"
   ]
  },
  {
   "cell_type": "markdown",
   "metadata": {
    "editable": true
   },
   "source": [
    "Temperature data"
   ]
  },
  {
   "cell_type": "code",
   "execution_count": 6,
   "metadata": {
    "editable": true
   },
   "outputs": [],
   "source": [
    "# read in temperature -- measurements listed in C\n",
    "temp = pd.read_csv('../../data2/GlobalLandTemperaturesByCity.csv', usecols=['dt', 'AverageTemperature', 'Country'])"
   ]
  },
  {
   "cell_type": "code",
   "execution_count": 15,
   "metadata": {
    "editable": true
   },
   "outputs": [
    {
     "name": "stdout",
     "output_type": "stream",
     "text": [
      "<class 'pandas.core.frame.DataFrame'>\n",
      "RangeIndex: 8599212 entries, 0 to 8599211\n",
      "Data columns (total 5 columns):\n",
      "dt                    datetime64[ns]\n",
      "AverageTemperature    float64\n",
      "Country               object\n",
      "month                 int64\n",
      "year                  int64\n",
      "dtypes: datetime64[ns](1), float64(1), int64(2), object(1)\n",
      "memory usage: 328.0+ MB\n"
     ]
    }
   ],
   "source": [
    "temp.info()"
   ]
  },
  {
   "cell_type": "code",
   "execution_count": 8,
   "metadata": {
    "editable": true
   },
   "outputs": [
    {
     "data": {
      "text/plain": [
       "8599212"
      ]
     },
     "execution_count": 8,
     "metadata": {},
     "output_type": "execute_result"
    }
   ],
   "source": [
    "len(temp)"
   ]
  },
  {
   "cell_type": "code",
   "execution_count": 14,
   "metadata": {
    "editable": true
   },
   "outputs": [],
   "source": [
    "# convert timestamp from type object to datetime for easy year/month extraction\n",
    "temp['dt'] = pd.to_datetime(temp['dt'])\n",
    "temp['month'] = temp['dt'].dt.month\n",
    "temp['year'] = temp['dt'].dt.year"
   ]
  },
  {
   "cell_type": "code",
   "execution_count": 81,
   "metadata": {
    "editable": true
   },
   "outputs": [],
   "source": [
    "# filter to most recent complete year available (2012)\n",
    "temp_2012 = temp[temp['year']==2012]"
   ]
  },
  {
   "cell_type": "code",
   "execution_count": 82,
   "metadata": {
    "editable": true
   },
   "outputs": [
    {
     "data": {
      "text/plain": [
       "42120"
      ]
     },
     "execution_count": 82,
     "metadata": {},
     "output_type": "execute_result"
    }
   ],
   "source": [
    "len(temp_2012)"
   ]
  },
  {
   "cell_type": "code",
   "execution_count": 83,
   "metadata": {
    "editable": true
   },
   "outputs": [
    {
     "data": {
      "text/plain": [
       "{1, 2, 3, 4, 5, 6, 7, 8, 9, 10, 11, 12}"
      ]
     },
     "execution_count": 83,
     "metadata": {},
     "output_type": "execute_result"
    }
   ],
   "source": [
    "set(temp_2012['month'])"
   ]
  },
  {
   "cell_type": "code",
   "execution_count": 84,
   "metadata": {
    "editable": true
   },
   "outputs": [],
   "source": [
    "# find avg temp per country per month\n",
    "temp_avg = temp_2012[['AverageTemperature', 'Country', 'month']].groupby(['Country', 'month']).mean().reset_index()"
   ]
  },
  {
   "cell_type": "code",
   "execution_count": 85,
   "metadata": {
    "editable": true
   },
   "outputs": [
    {
     "name": "stdout",
     "output_type": "stream",
     "text": [
      "       Country  month  AverageTemperature\n",
      "0  Afghanistan      1            -0.27400\n",
      "1  Afghanistan      2             0.17425\n",
      "2  Afghanistan      3             8.31550\n",
      "3  Afghanistan      4            15.58475\n",
      "4  Afghanistan      5            20.26750\n",
      "1908\n",
      "{1, 2, 3, 4, 5, 6, 7, 8, 9, 10, 11, 12}\n"
     ]
    }
   ],
   "source": [
    "print(temp_avg.head())\n",
    "print(len(temp_avg))\n",
    "print(set(temp_avg['month']))"
   ]
  },
  {
   "cell_type": "code",
   "execution_count": 86,
   "metadata": {
    "editable": true
   },
   "outputs": [],
   "source": [
    "# calculate F for Americans\n",
    "temp_avg['AverageTemperatureF'] = (temp_avg['AverageTemperature'] * 9/5) + 32"
   ]
  },
  {
   "cell_type": "code",
   "execution_count": 87,
   "metadata": {
    "editable": true
   },
   "outputs": [
    {
     "data": {
      "text/html": [
       "<div>\n",
       "<style scoped>\n",
       "    .dataframe tbody tr th:only-of-type {\n",
       "        vertical-align: middle;\n",
       "    }\n",
       "\n",
       "    .dataframe tbody tr th {\n",
       "        vertical-align: top;\n",
       "    }\n",
       "\n",
       "    .dataframe thead th {\n",
       "        text-align: right;\n",
       "    }\n",
       "</style>\n",
       "<table border=\"1\" class=\"dataframe\">\n",
       "  <thead>\n",
       "    <tr style=\"text-align: right;\">\n",
       "      <th></th>\n",
       "      <th>Country</th>\n",
       "      <th>month</th>\n",
       "      <th>AverageTemperature</th>\n",
       "      <th>AverageTemperatureF</th>\n",
       "    </tr>\n",
       "  </thead>\n",
       "  <tbody>\n",
       "    <tr>\n",
       "      <th>0</th>\n",
       "      <td>Afghanistan</td>\n",
       "      <td>1</td>\n",
       "      <td>-0.27400</td>\n",
       "      <td>31.50680</td>\n",
       "    </tr>\n",
       "    <tr>\n",
       "      <th>1</th>\n",
       "      <td>Afghanistan</td>\n",
       "      <td>2</td>\n",
       "      <td>0.17425</td>\n",
       "      <td>32.31365</td>\n",
       "    </tr>\n",
       "    <tr>\n",
       "      <th>2</th>\n",
       "      <td>Afghanistan</td>\n",
       "      <td>3</td>\n",
       "      <td>8.31550</td>\n",
       "      <td>46.96790</td>\n",
       "    </tr>\n",
       "    <tr>\n",
       "      <th>3</th>\n",
       "      <td>Afghanistan</td>\n",
       "      <td>4</td>\n",
       "      <td>15.58475</td>\n",
       "      <td>60.05255</td>\n",
       "    </tr>\n",
       "    <tr>\n",
       "      <th>4</th>\n",
       "      <td>Afghanistan</td>\n",
       "      <td>5</td>\n",
       "      <td>20.26750</td>\n",
       "      <td>68.48150</td>\n",
       "    </tr>\n",
       "  </tbody>\n",
       "</table>\n",
       "</div>"
      ],
      "text/plain": [
       "       Country  month  AverageTemperature  AverageTemperatureF\n",
       "0  Afghanistan      1            -0.27400             31.50680\n",
       "1  Afghanistan      2             0.17425             32.31365\n",
       "2  Afghanistan      3             8.31550             46.96790\n",
       "3  Afghanistan      4            15.58475             60.05255\n",
       "4  Afghanistan      5            20.26750             68.48150"
      ]
     },
     "execution_count": 87,
     "metadata": {},
     "output_type": "execute_result"
    }
   ],
   "source": [
    "temp_avg.head()"
   ]
  },
  {
   "cell_type": "code",
   "execution_count": 88,
   "metadata": {
    "editable": true
   },
   "outputs": [],
   "source": [
    "# get country code for table insertion & filtering\n",
    "temp_avg['Country'] = temp_avg['Country'].str.upper()\n",
    "\n",
    "# fix some country names to match countries json\n",
    "temp_avg['Country'] = temp_avg['Country'].replace('BOSNIA AND HERZEGOVINA','BOSNIA-HERZEGOVINA')\n",
    "temp_avg['Country'] = temp_avg['Country'].replace('CHINA', 'CHINA, PRC')\n",
    "temp_avg['Country'] = temp_avg['Country'].replace(\"CÔTE D'IVOIRE\", 'IVORY COAST')\n",
    "temp_avg['Country'] = temp_avg['Country'].replace('GUINEA BISSAU', 'GUINEA-BISSAU')\n",
    "temp_avg['Country'] = temp_avg['Country'].replace('CONGO (DEMOCRATIC REPUBLIC OF THE)', 'CONGO')\n",
    "\n",
    "countries_df['country'] = countries_df['country'].replace('MEXICO Air Sea, and Not Reported (I-94, no land arrivals)', 'MEXICO')\n",
    "countries_df['country'] = countries_df['country'].str.replace('INVALID: ', '')\n",
    "\n",
    "temp_avg_ccode = pd.merge(temp_avg, countries_df, left_on='Country', right_on='country')\n",
    "\n",
    "# drop extra US code (407 wanted)\n",
    "temp_avg_ccode = temp_avg_ccode[temp_avg_ccode['code']!=583]"
   ]
  },
  {
   "cell_type": "code",
   "execution_count": 89,
   "metadata": {
    "editable": true
   },
   "outputs": [
    {
     "name": "stdout",
     "output_type": "stream",
     "text": [
      "1908\n",
      "289\n",
      "1896\n",
      "['CAMBODIA']\n"
     ]
    }
   ],
   "source": [
    "print(len(temp_avg))\n",
    "print(len(countries_df))\n",
    "print(len(temp_avg_ccode))\n",
    "\n",
    "print([e for e in set(temp_avg['Country'].values) if e not in set(temp_avg_ccode['Country'].values)])\n",
    "\n",
    "# Cambodia does not have a known code and visitor data is not being well tracked. Requires further investigation."
   ]
  },
  {
   "cell_type": "code",
   "execution_count": 90,
   "metadata": {
    "editable": true
   },
   "outputs": [
    {
     "data": {
      "text/html": [
       "<div>\n",
       "<style scoped>\n",
       "    .dataframe tbody tr th:only-of-type {\n",
       "        vertical-align: middle;\n",
       "    }\n",
       "\n",
       "    .dataframe tbody tr th {\n",
       "        vertical-align: top;\n",
       "    }\n",
       "\n",
       "    .dataframe thead th {\n",
       "        text-align: right;\n",
       "    }\n",
       "</style>\n",
       "<table border=\"1\" class=\"dataframe\">\n",
       "  <thead>\n",
       "    <tr style=\"text-align: right;\">\n",
       "      <th></th>\n",
       "      <th>Country</th>\n",
       "      <th>month</th>\n",
       "      <th>AverageTemperature</th>\n",
       "      <th>AverageTemperatureF</th>\n",
       "    </tr>\n",
       "  </thead>\n",
       "  <tbody>\n",
       "    <tr>\n",
       "      <th>276</th>\n",
       "      <td>CAMBODIA</td>\n",
       "      <td>1</td>\n",
       "      <td>26.571</td>\n",
       "      <td>79.8278</td>\n",
       "    </tr>\n",
       "    <tr>\n",
       "      <th>277</th>\n",
       "      <td>CAMBODIA</td>\n",
       "      <td>2</td>\n",
       "      <td>28.150</td>\n",
       "      <td>82.6700</td>\n",
       "    </tr>\n",
       "    <tr>\n",
       "      <th>278</th>\n",
       "      <td>CAMBODIA</td>\n",
       "      <td>3</td>\n",
       "      <td>29.317</td>\n",
       "      <td>84.7706</td>\n",
       "    </tr>\n",
       "    <tr>\n",
       "      <th>279</th>\n",
       "      <td>CAMBODIA</td>\n",
       "      <td>4</td>\n",
       "      <td>29.140</td>\n",
       "      <td>84.4520</td>\n",
       "    </tr>\n",
       "    <tr>\n",
       "      <th>280</th>\n",
       "      <td>CAMBODIA</td>\n",
       "      <td>5</td>\n",
       "      <td>28.514</td>\n",
       "      <td>83.3252</td>\n",
       "    </tr>\n",
       "    <tr>\n",
       "      <th>281</th>\n",
       "      <td>CAMBODIA</td>\n",
       "      <td>6</td>\n",
       "      <td>28.372</td>\n",
       "      <td>83.0696</td>\n",
       "    </tr>\n",
       "    <tr>\n",
       "      <th>282</th>\n",
       "      <td>CAMBODIA</td>\n",
       "      <td>7</td>\n",
       "      <td>27.814</td>\n",
       "      <td>82.0652</td>\n",
       "    </tr>\n",
       "    <tr>\n",
       "      <th>283</th>\n",
       "      <td>CAMBODIA</td>\n",
       "      <td>8</td>\n",
       "      <td>28.016</td>\n",
       "      <td>82.4288</td>\n",
       "    </tr>\n",
       "    <tr>\n",
       "      <th>284</th>\n",
       "      <td>CAMBODIA</td>\n",
       "      <td>9</td>\n",
       "      <td>27.409</td>\n",
       "      <td>81.3362</td>\n",
       "    </tr>\n",
       "    <tr>\n",
       "      <th>285</th>\n",
       "      <td>CAMBODIA</td>\n",
       "      <td>10</td>\n",
       "      <td>27.535</td>\n",
       "      <td>81.5630</td>\n",
       "    </tr>\n",
       "    <tr>\n",
       "      <th>286</th>\n",
       "      <td>CAMBODIA</td>\n",
       "      <td>11</td>\n",
       "      <td>27.939</td>\n",
       "      <td>82.2902</td>\n",
       "    </tr>\n",
       "    <tr>\n",
       "      <th>287</th>\n",
       "      <td>CAMBODIA</td>\n",
       "      <td>12</td>\n",
       "      <td>27.515</td>\n",
       "      <td>81.5270</td>\n",
       "    </tr>\n",
       "  </tbody>\n",
       "</table>\n",
       "</div>"
      ],
      "text/plain": [
       "      Country  month  AverageTemperature  AverageTemperatureF\n",
       "276  CAMBODIA      1              26.571              79.8278\n",
       "277  CAMBODIA      2              28.150              82.6700\n",
       "278  CAMBODIA      3              29.317              84.7706\n",
       "279  CAMBODIA      4              29.140              84.4520\n",
       "280  CAMBODIA      5              28.514              83.3252\n",
       "281  CAMBODIA      6              28.372              83.0696\n",
       "282  CAMBODIA      7              27.814              82.0652\n",
       "283  CAMBODIA      8              28.016              82.4288\n",
       "284  CAMBODIA      9              27.409              81.3362\n",
       "285  CAMBODIA     10              27.535              81.5630\n",
       "286  CAMBODIA     11              27.939              82.2902\n",
       "287  CAMBODIA     12              27.515              81.5270"
      ]
     },
     "execution_count": 90,
     "metadata": {},
     "output_type": "execute_result"
    }
   ],
   "source": [
    "temp_avg[temp_avg['Country']==\"CAMBODIA\"]"
   ]
  },
  {
   "cell_type": "code",
   "execution_count": 74,
   "metadata": {
    "editable": true
   },
   "outputs": [
    {
     "data": {
      "text/plain": [
       "{1, 2, 3, 4, 5, 6, 7, 8, 9}"
      ]
     },
     "execution_count": 74,
     "metadata": {},
     "output_type": "execute_result"
    }
   ],
   "source": [
    "set(temp_avg['month'])"
   ]
  },
  {
   "cell_type": "code",
   "execution_count": null,
   "metadata": {
    "editable": true
   },
   "outputs": [],
   "source": []
  }
 ],
 "metadata": {
  "kernelspec": {
   "display_name": "Python 3",
   "language": "python",
   "name": "python3"
  },
  "language_info": {
   "codemirror_mode": {
    "name": "ipython",
    "version": 3
   },
   "file_extension": ".py",
   "mimetype": "text/x-python",
   "name": "python",
   "nbconvert_exporter": "python",
   "pygments_lexer": "ipython3",
   "version": "3.6.3"
  }
 },
 "nbformat": 4,
 "nbformat_minor": 4
}
